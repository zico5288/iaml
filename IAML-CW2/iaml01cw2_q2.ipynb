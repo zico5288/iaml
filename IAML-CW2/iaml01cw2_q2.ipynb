{
 "cells": [
  {
   "cell_type": "code",
   "execution_count": 1,
   "metadata": {},
   "outputs": [],
   "source": [
    "#--- Code for loading the data set and pre-processing --->\n",
    "import numpy as np\n",
    "import scipy\n",
    "import matplotlib.pyplot as plt\n",
    "import seaborn as sns"
   ]
  },
  {
   "cell_type": "markdown",
   "metadata": {},
   "source": [
    "normalisation"
   ]
  },
  {
   "cell_type": "code",
   "execution_count": 2,
   "metadata": {},
   "outputs": [
    {
     "name": "stderr",
     "output_type": "stream",
     "text": [
      "/Users/zico5288/opt/miniconda3/envs/py3iaml/lib/python3.7/site-packages/sklearn/utils/__init__.py:4: DeprecationWarning: Using or importing the ABCs from 'collections' instead of from 'collections.abc' is deprecated since Python 3.3,and in 3.9 it will stop working\n",
      "  from collections import Sequence\n"
     ]
    }
   ],
   "source": [
    "import sys\n",
    "sys.path.append(\"/Users/zico5288/Desktop/INFR10069-2020-CW2-main/helpers\")\n",
    "from iaml01cw2_helpers import load_FashionMNIST\n",
    "Xtrn, Ytrn, Xtst, Ytst = load_FashionMNIST(\"/Users/zico5288/Desktop/INFR10069-2020-CW2-main/data/fashion\")\n",
    "import copy\n",
    "Xtrn_orig = copy.deepcopy(Xtrn)\n",
    "Xtst_orig = copy.deepcopy(Xtst)\n",
    "from sklearn.decomposition import PCA\n",
    "from sklearn.decomposition import *\n",
    "from sklearn.svm import SVC\n",
    "from matplotlib.pyplot import MultipleLocator\n",
    "from sklearn import linear_model\n",
    "from sklearn.metrics import confusion_matrix\n",
    "Xtrn = Xtrn_orig/255\n",
    "Xtst = Xtst_orig/255\n",
    "Xmean = np.mean(Xtrn, axis = 0)\n",
    "Xtrn_nm = Xtrn - Xmean\n",
    "Xtst_nm = Xtst - Xmean"
   ]
  },
  {
   "cell_type": "markdown",
   "metadata": {},
   "source": [
    "Q2.1"
   ]
  },
  {
   "cell_type": "code",
   "execution_count": 3,
   "metadata": {},
   "outputs": [
    {
     "name": "stdout",
     "output_type": "stream",
     "text": [
      "Accuracy:  0.8401\n",
      "Confusion Matrix: \n",
      " [[819   3  15  50   7   4  89   1  12   0]\n",
      " [  5 953   4  27   5   0   3   1   2   0]\n",
      " [ 27   4 731  11 133   0  82   2   9   1]\n",
      " [ 31  15  14 866  33   0  37   0   4   0]\n",
      " [  0   3 115  38 760   2  72   0  10   0]\n",
      " [  2   0   0   1   0 911   0  56  10  20]\n",
      " [147   3 128  46 108   0 539   0  28   1]\n",
      " [  0   0   0   0   0  32   0 936   1  31]\n",
      " [  7   1   6  11   3   7  15   5 945   0]\n",
      " [  0   0   0   1   0  15   1  42   0 941]]\n"
     ]
    }
   ],
   "source": [
    "# Q2.1\n",
    "def iaml01cw2_q2_1():\n",
    "    reg = linear_model.LogisticRegression()\n",
    "    reg.fit(Xtrn_nm, Ytrn)\n",
    "    print('Accuracy: ',reg.score(Xtst_nm,Ytst))\n",
    "    print('Confusion Matrix: \\n',confusion_matrix(Ytst,reg.predict(Xtst_nm)))\n",
    "iaml01cw2_q2_1()"
   ]
  },
  {
   "cell_type": "markdown",
   "metadata": {},
   "source": [
    "Q2.2"
   ]
  },
  {
   "cell_type": "code",
   "execution_count": 4,
   "metadata": {},
   "outputs": [
    {
     "name": "stdout",
     "output_type": "stream",
     "text": [
      "Accuracy:  0.8461\n",
      "Confusion Matrix: \n",
      " [[845   2   8  51   4   4  72   0  14   0]\n",
      " [  4 951   7  31   5   0   1   0   1   0]\n",
      " [ 15   2 748  11 137   0  79   0   8   0]\n",
      " [ 32   6  12 881  26   0  40   0   3   0]\n",
      " [  1   0  98  36 775   0  86   0   4   0]\n",
      " [  0   0   0   1   0 914   0  57   2  26]\n",
      " [185   1 122  39  95   0 533   0  25   0]\n",
      " [  0   0   0   0   0  34   0 925   0  41]\n",
      " [  3   1   8   5   2   4  13   4 959   1]\n",
      " [  0   0   0   0   0  22   0  47   1 930]]\n"
     ]
    }
   ],
   "source": [
    "# Q2.2\n",
    "def iaml01cw2_q2_2():\n",
    "    svm = SVC()\n",
    "    svm.fit(Xtrn_nm, Ytrn)\n",
    "    print('Accuracy: ', svm.score(Xtst_nm,Ytst))\n",
    "    print('Confusion Matrix: \\n',confusion_matrix(Ytst,svm.predict(Xtst_nm)))\n",
    "iaml01cw2_q2_2()"
   ]
  },
  {
   "cell_type": "markdown",
   "metadata": {},
   "source": [
    "Q2.3"
   ]
  },
  {
   "cell_type": "code",
   "execution_count": 7,
   "metadata": {},
   "outputs": [
    {
     "data": {
      "image/png": "[encoded data removed]",
      "text/plain": [
       "<Figure size 432x288 with 2 Axes>"
      ]
     },
     "metadata": {
      "needs_background": "light"
     },
     "output_type": "display_data"
    }
   ],
   "source": [
    "# Q2.3\n",
    "def iaml01cw2_q2_3():\n",
    "    pca = PCA(n_components=2)\n",
    "    pca.fit(Xtrn_nm)\n",
    "    aaa = pca.fit_transform(Xtrn_nm)\n",
    "    sigma1 = np.std(aaa[:,0])\n",
    "    sigma2 = np.std(aaa[:,1])\n",
    "    plt.xlim((-5*sigma1,5*sigma1))\n",
    "    plt.ylim((-5*sigma2,5*sigma2))\n",
    "    n = 100\n",
    "    x = np.linspace(-5*sigma1,5*sigma1,n)\n",
    "    y = np.linspace(-5*sigma2,5*sigma2,n)\n",
    "    X, Y = np.meshgrid(x, y)\n",
    "    reg = linear_model.LogisticRegression()\n",
    "    reg.fit(Xtrn_nm, Ytrn)\n",
    "    result = np.empty([100,100])\n",
    "    for i in range(100):\n",
    "        for j in range(100):\n",
    "            a = np.array([X[i,j], Y[i,j]])\n",
    "            b = pca.inverse_transform(a)\n",
    "            c = reg.predict(b.reshape(1,784))\n",
    "            result[i,j] = c\n",
    "    plt.contourf(X, Y,result,cmap='coolwarm',levels = np.arange(-1,9))\n",
    "    cb = plt.colorbar()\n",
    "    cb.set_ticks(np.arange(-0.5,9.5))\n",
    "    cb.set_ticklabels(np.arange(0,9))\n",
    "    cb.set_label('color of each class')\n",
    "    plt.xlim((-5*sigma1,5*sigma1))\n",
    "    plt.ylim((-5*sigma2,5*sigma2))\n",
    "    plt.title('Decision Regions For Logistic Regression')\n",
    "    plt.xlabel('First Principle Component')\n",
    "    plt.ylabel('Second Principle Component')\n",
    "    plt.savefig('2.3.pdf')\n",
    "iaml01cw2_q2_3()"
   ]
  },
  {
   "cell_type": "markdown",
   "metadata": {},
   "source": [
    "Q2.4"
   ]
  },
  {
   "cell_type": "code",
   "execution_count": 8,
   "metadata": {},
   "outputs": [
    {
     "data": {
      "image/png": "[encoded data removed]",
      "text/plain": [
       "<Figure size 432x288 with 2 Axes>"
      ]
     },
     "metadata": {
      "needs_background": "light"
     },
     "output_type": "display_data"
    }
   ],
   "source": [
    "# Q2.4\n",
    "def iaml01cw2_q2_4():\n",
    "    pca = PCA(n_components=2)\n",
    "    pca.fit(Xtrn_nm)\n",
    "    aaa = pca.fit_transform(Xtrn_nm)\n",
    "    sigma1 = np.std(aaa[:,0])\n",
    "    sigma2 = np.std(aaa[:,1])\n",
    "    plt.xlim((-5*sigma1,5*sigma1))\n",
    "    plt.ylim((-5*sigma2,5*sigma2))\n",
    "    n = 100\n",
    "    x = np.linspace(-5*sigma1,5*sigma1,n)\n",
    "    y = np.linspace(-5*sigma2,5*sigma2,n)\n",
    "    X, Y = np.meshgrid(x, y)\n",
    "    svm = SVC()\n",
    "    svm.fit(Xtrn_nm, Ytrn)\n",
    "    result = np.empty([100,100])\n",
    "    for i in range(100):\n",
    "        for j in range(100):\n",
    "            a = np.array([X[i,j], Y[i,j]])\n",
    "            b = pca.inverse_transform(a)\n",
    "            c = svm.predict(b.reshape(1,784))\n",
    "            result[i,j] = c\n",
    "    plt.contourf(X,Y,result,cmap='coolwarm',levels = np.arange(-1,10))\n",
    "    cb = plt.colorbar()\n",
    "    cb.set_ticks(np.arange(-0.5,10.5))\n",
    "    cb.set_ticklabels(np.arange(0,10))\n",
    "    cb.set_label('color of each class')\n",
    "    plt.title('Decision Regions For SVM Classifiers')\n",
    "    plt.xlabel('First Principle Component')\n",
    "    plt.ylabel('Second Principle Component')\n",
    "    plt.savefig('2.4.pdf')\n",
    "iaml01cw2_q2_4()"
   ]
  },
  {
   "cell_type": "markdown",
   "metadata": {},
   "source": [
    "Q2.5"
   ]
  },
  {
   "cell_type": "code",
   "execution_count": 4,
   "metadata": {},
   "outputs": [
    {
     "name": "stdout",
     "output_type": "stream",
     "text": [
      "Accuracy:  [0.6481958  0.69109768 0.73670227 0.78380416 0.81970174 0.84470129\n",
      " 0.85650231 0.8542039  0.8495031  0.84060138]\n",
      "Highest accuracy:  0.8565023106939273\n",
      "Optimal C:  21.544346900318846\n"
     ]
    },
    {
     "data": {
      "image/png": "[encoded data removed]",
      "text/plain": [
       "<Figure size 432x288 with 1 Axes>"
      ]
     },
     "metadata": {
      "needs_background": "light"
     },
     "output_type": "display_data"
    }
   ],
   "source": [
    "# Q2.5\n",
    "def iaml01cw2_q2_5():\n",
    "    from sklearn.model_selection import cross_val_score\n",
    "    Xsmall = np.empty([0,784])\n",
    "    Ysmall = np.empty([0,])\n",
    "    for i in range(10):\n",
    "        Xtrn_i = Xtrn_nm[Ytrn == i]\n",
    "        Xsmall_i = Xtrn_i[0:1000,:]\n",
    "        Ysmall_i = np.empty([1000,]) \n",
    "        for j in range(1000):\n",
    "            Ysmall_i[j] = i\n",
    "        Xsmall = np.concatenate((Xsmall,Xsmall_i),axis=0)\n",
    "        Ysmall = np.concatenate((Ysmall,Ysmall_i),axis=0)\n",
    "    log = np.logspace(-2,3,10)\n",
    "    accuracy = np.empty([10])\n",
    "    for i in range(len(log)):\n",
    "        SVM = SVC(C=log[i])\n",
    "        SVM.fit(Xsmall,Ysmall)\n",
    "        accuracy[i] = np.mean(cross_val_score(SVM,Xsmall,Ysmall,cv=3,n_jobs=-1))\n",
    "    print('Accuracy: ', accuracy)\n",
    "    print('Highest accuracy: ', accuracy.max())\n",
    "    print('Optimal C: ', log[accuracy.argmax()])\n",
    "    plt.plot(log, accuracy,'o-',label ='accuracy with different regularisation parameter ')\n",
    "    ax=plt.gca()\n",
    "    ax.set_xscale('log')\n",
    "    plt.title('mean cross-validated classification accuracy vs regularisation parameter C',size = 10)\n",
    "    plt.xlabel('Regularisation parameter C',size = 10)\n",
    "    plt.ylabel('mean cross-validated classification accuracy',size = 10)\n",
    "    y_major_locator=MultipleLocator(0.025)\n",
    "    ax.yaxis.set_major_locator(y_major_locator)\n",
    "    plt.ylim((0.625,0.875))\n",
    "    plt.grid()\n",
    "    plt.legend()\n",
    "    plt.savefig('2.5.pdf')\n",
    "iaml01cw2_q2_5()"
   ]
  },
  {
   "cell_type": "markdown",
   "metadata": {},
   "source": [
    "Q2.6"
   ]
  },
  {
   "cell_type": "code",
   "execution_count": 8,
   "metadata": {},
   "outputs": [
    {
     "name": "stdout",
     "output_type": "stream",
     "text": [
      "Training Accuracy: 0.9084166666666667\n",
      "Test Accuracy:  0.8765\n"
     ]
    }
   ],
   "source": [
    "# Q2.6 \n",
    "def iaml01cw2_q2_6():\n",
    "    svm = SVC(C=2.15443469e+01)\n",
    "    svm.fit(Xtrn_nm, Ytrn)\n",
    "    print('Training Accuracy:', svm.score(Xtrn_nm,Ytrn))\n",
    "    print('Test Accuracy: ', svm.score(Xtst_nm,Ytst))\n",
    "iaml01cw2_q2_6()"
   ]
  }
 ],
 "metadata": {
  "kernelspec": {
   "display_name": "Python 3",
   "language": "python",
   "name": "python3"
  },
  "language_info": {
   "codemirror_mode": {
    "name": "ipython",
    "version": 3
   },
   "file_extension": ".py",
   "mimetype": "text/x-python",
   "name": "python",
   "nbconvert_exporter": "python",
   "pygments_lexer": "ipython3",
   "version": "3.7.7"
  }
 },
 "nbformat": 4,
 "nbformat_minor": 4
}
