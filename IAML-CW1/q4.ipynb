{
 "cells": [
  {
   "cell_type": "markdown",
   "metadata": {},
   "source": [
    "(a)"
   ]
  },
  {
   "cell_type": "code",
   "execution_count": 1,
   "metadata": {},
   "outputs": [
    {
     "name": "stderr",
     "output_type": "stream",
     "text": [
      "/Users/zico5288/opt/miniconda3/envs/py3iaml/lib/python3.7/site-packages/sklearn/utils/__init__.py:4: DeprecationWarning: Using or importing the ABCs from 'collections' instead of from 'collections.abc' is deprecated since Python 3.3,and in 3.9 it will stop working\n",
      "  from collections import Sequence\n"
     ]
    }
   ],
   "source": [
    "# Import packages\n",
    "import os\n",
    "import numpy as np \n",
    "import pandas as pd\n",
    "import matplotlib.pyplot as plt\n",
    "import seaborn as sns\n",
    "from sklearn.naive_bayes import MultinomialNB\n",
    "from sklearn.metrics import accuracy_score, confusion_matrix\n",
    "from sklearn import metrics\n",
    "from sklearn.metrics import roc_auc_score\n",
    "from sklearn.metrics import roc_curve"
   ]
  },
  {
   "cell_type": "code",
   "execution_count": 2,
   "metadata": {},
   "outputs": [],
   "source": [
    "# read csv file\n",
    "path = os.path.join(os.getcwd(), 'data', 'classification_eval_1.csv')\n",
    "classification = pd.read_csv(path)\n",
    "path = os.path.join(os.getcwd(), 'data', 'classification_eval_1.csv')\n",
    "a = pd.read_csv(path)"
   ]
  },
  {
   "cell_type": "code",
   "execution_count": 3,
   "metadata": {},
   "outputs": [
    {
     "data": {
      "text/html": [
       "<div>\n",
       "<style scoped>\n",
       "    .dataframe tbody tr th:only-of-type {\n",
       "        vertical-align: middle;\n",
       "    }\n",
       "\n",
       "    .dataframe tbody tr th {\n",
       "        vertical-align: top;\n",
       "    }\n",
       "\n",
       "    .dataframe thead th {\n",
       "        text-align: right;\n",
       "    }\n",
       "</style>\n",
       "<table border=\"1\" class=\"dataframe\">\n",
       "  <thead>\n",
       "    <tr style=\"text-align: right;\">\n",
       "      <th></th>\n",
       "      <th>gt</th>\n",
       "      <th>alg_1</th>\n",
       "      <th>alg_2</th>\n",
       "      <th>alg_3</th>\n",
       "      <th>alg_4</th>\n",
       "    </tr>\n",
       "  </thead>\n",
       "  <tbody>\n",
       "    <tr>\n",
       "      <th>0</th>\n",
       "      <td>0</td>\n",
       "      <td>0.0</td>\n",
       "      <td>0.0</td>\n",
       "      <td>1.0</td>\n",
       "      <td>1.0</td>\n",
       "    </tr>\n",
       "    <tr>\n",
       "      <th>1</th>\n",
       "      <td>0</td>\n",
       "      <td>1.0</td>\n",
       "      <td>1.0</td>\n",
       "      <td>1.0</td>\n",
       "      <td>1.0</td>\n",
       "    </tr>\n",
       "    <tr>\n",
       "      <th>2</th>\n",
       "      <td>1</td>\n",
       "      <td>0.0</td>\n",
       "      <td>1.0</td>\n",
       "      <td>0.0</td>\n",
       "      <td>1.0</td>\n",
       "    </tr>\n",
       "    <tr>\n",
       "      <th>3</th>\n",
       "      <td>1</td>\n",
       "      <td>1.0</td>\n",
       "      <td>1.0</td>\n",
       "      <td>0.0</td>\n",
       "      <td>1.0</td>\n",
       "    </tr>\n",
       "    <tr>\n",
       "      <th>4</th>\n",
       "      <td>0</td>\n",
       "      <td>1.0</td>\n",
       "      <td>0.0</td>\n",
       "      <td>0.0</td>\n",
       "      <td>1.0</td>\n",
       "    </tr>\n",
       "    <tr>\n",
       "      <th>5</th>\n",
       "      <td>0</td>\n",
       "      <td>1.0</td>\n",
       "      <td>0.0</td>\n",
       "      <td>0.0</td>\n",
       "      <td>1.0</td>\n",
       "    </tr>\n",
       "    <tr>\n",
       "      <th>6</th>\n",
       "      <td>0</td>\n",
       "      <td>1.0</td>\n",
       "      <td>1.0</td>\n",
       "      <td>0.0</td>\n",
       "      <td>1.0</td>\n",
       "    </tr>\n",
       "    <tr>\n",
       "      <th>7</th>\n",
       "      <td>0</td>\n",
       "      <td>0.0</td>\n",
       "      <td>1.0</td>\n",
       "      <td>1.0</td>\n",
       "      <td>1.0</td>\n",
       "    </tr>\n",
       "    <tr>\n",
       "      <th>8</th>\n",
       "      <td>0</td>\n",
       "      <td>0.0</td>\n",
       "      <td>0.0</td>\n",
       "      <td>1.0</td>\n",
       "      <td>1.0</td>\n",
       "    </tr>\n",
       "    <tr>\n",
       "      <th>9</th>\n",
       "      <td>0</td>\n",
       "      <td>0.0</td>\n",
       "      <td>1.0</td>\n",
       "      <td>1.0</td>\n",
       "      <td>0.0</td>\n",
       "    </tr>\n",
       "    <tr>\n",
       "      <th>10</th>\n",
       "      <td>0</td>\n",
       "      <td>0.0</td>\n",
       "      <td>0.0</td>\n",
       "      <td>1.0</td>\n",
       "      <td>0.0</td>\n",
       "    </tr>\n",
       "    <tr>\n",
       "      <th>11</th>\n",
       "      <td>1</td>\n",
       "      <td>1.0</td>\n",
       "      <td>0.0</td>\n",
       "      <td>0.0</td>\n",
       "      <td>1.0</td>\n",
       "    </tr>\n",
       "    <tr>\n",
       "      <th>12</th>\n",
       "      <td>0</td>\n",
       "      <td>1.0</td>\n",
       "      <td>1.0</td>\n",
       "      <td>0.0</td>\n",
       "      <td>1.0</td>\n",
       "    </tr>\n",
       "    <tr>\n",
       "      <th>13</th>\n",
       "      <td>0</td>\n",
       "      <td>0.0</td>\n",
       "      <td>1.0</td>\n",
       "      <td>1.0</td>\n",
       "      <td>0.0</td>\n",
       "    </tr>\n",
       "    <tr>\n",
       "      <th>14</th>\n",
       "      <td>0</td>\n",
       "      <td>0.0</td>\n",
       "      <td>0.0</td>\n",
       "      <td>1.0</td>\n",
       "      <td>1.0</td>\n",
       "    </tr>\n",
       "    <tr>\n",
       "      <th>15</th>\n",
       "      <td>1</td>\n",
       "      <td>1.0</td>\n",
       "      <td>1.0</td>\n",
       "      <td>0.0</td>\n",
       "      <td>1.0</td>\n",
       "    </tr>\n",
       "    <tr>\n",
       "      <th>16</th>\n",
       "      <td>0</td>\n",
       "      <td>1.0</td>\n",
       "      <td>1.0</td>\n",
       "      <td>0.0</td>\n",
       "      <td>1.0</td>\n",
       "    </tr>\n",
       "    <tr>\n",
       "      <th>17</th>\n",
       "      <td>0</td>\n",
       "      <td>0.0</td>\n",
       "      <td>1.0</td>\n",
       "      <td>0.0</td>\n",
       "      <td>1.0</td>\n",
       "    </tr>\n",
       "    <tr>\n",
       "      <th>18</th>\n",
       "      <td>0</td>\n",
       "      <td>0.0</td>\n",
       "      <td>1.0</td>\n",
       "      <td>0.0</td>\n",
       "      <td>1.0</td>\n",
       "    </tr>\n",
       "    <tr>\n",
       "      <th>19</th>\n",
       "      <td>0</td>\n",
       "      <td>1.0</td>\n",
       "      <td>1.0</td>\n",
       "      <td>1.0</td>\n",
       "      <td>1.0</td>\n",
       "    </tr>\n",
       "    <tr>\n",
       "      <th>20</th>\n",
       "      <td>1</td>\n",
       "      <td>1.0</td>\n",
       "      <td>1.0</td>\n",
       "      <td>0.0</td>\n",
       "      <td>1.0</td>\n",
       "    </tr>\n",
       "    <tr>\n",
       "      <th>21</th>\n",
       "      <td>0</td>\n",
       "      <td>0.0</td>\n",
       "      <td>1.0</td>\n",
       "      <td>1.0</td>\n",
       "      <td>1.0</td>\n",
       "    </tr>\n",
       "    <tr>\n",
       "      <th>22</th>\n",
       "      <td>0</td>\n",
       "      <td>0.0</td>\n",
       "      <td>0.0</td>\n",
       "      <td>1.0</td>\n",
       "      <td>1.0</td>\n",
       "    </tr>\n",
       "    <tr>\n",
       "      <th>23</th>\n",
       "      <td>0</td>\n",
       "      <td>0.0</td>\n",
       "      <td>0.0</td>\n",
       "      <td>0.0</td>\n",
       "      <td>1.0</td>\n",
       "    </tr>\n",
       "    <tr>\n",
       "      <th>24</th>\n",
       "      <td>1</td>\n",
       "      <td>1.0</td>\n",
       "      <td>1.0</td>\n",
       "      <td>0.0</td>\n",
       "      <td>1.0</td>\n",
       "    </tr>\n",
       "    <tr>\n",
       "      <th>25</th>\n",
       "      <td>1</td>\n",
       "      <td>1.0</td>\n",
       "      <td>1.0</td>\n",
       "      <td>0.0</td>\n",
       "      <td>1.0</td>\n",
       "    </tr>\n",
       "    <tr>\n",
       "      <th>26</th>\n",
       "      <td>0</td>\n",
       "      <td>1.0</td>\n",
       "      <td>0.0</td>\n",
       "      <td>1.0</td>\n",
       "      <td>1.0</td>\n",
       "    </tr>\n",
       "    <tr>\n",
       "      <th>27</th>\n",
       "      <td>0</td>\n",
       "      <td>1.0</td>\n",
       "      <td>0.0</td>\n",
       "      <td>1.0</td>\n",
       "      <td>1.0</td>\n",
       "    </tr>\n",
       "    <tr>\n",
       "      <th>28</th>\n",
       "      <td>0</td>\n",
       "      <td>0.0</td>\n",
       "      <td>0.0</td>\n",
       "      <td>0.0</td>\n",
       "      <td>1.0</td>\n",
       "    </tr>\n",
       "    <tr>\n",
       "      <th>29</th>\n",
       "      <td>0</td>\n",
       "      <td>1.0</td>\n",
       "      <td>0.0</td>\n",
       "      <td>1.0</td>\n",
       "      <td>1.0</td>\n",
       "    </tr>\n",
       "    <tr>\n",
       "      <th>...</th>\n",
       "      <td>...</td>\n",
       "      <td>...</td>\n",
       "      <td>...</td>\n",
       "      <td>...</td>\n",
       "      <td>...</td>\n",
       "    </tr>\n",
       "    <tr>\n",
       "      <th>970</th>\n",
       "      <td>0</td>\n",
       "      <td>1.0</td>\n",
       "      <td>1.0</td>\n",
       "      <td>0.0</td>\n",
       "      <td>1.0</td>\n",
       "    </tr>\n",
       "    <tr>\n",
       "      <th>971</th>\n",
       "      <td>1</td>\n",
       "      <td>1.0</td>\n",
       "      <td>1.0</td>\n",
       "      <td>0.0</td>\n",
       "      <td>1.0</td>\n",
       "    </tr>\n",
       "    <tr>\n",
       "      <th>972</th>\n",
       "      <td>0</td>\n",
       "      <td>1.0</td>\n",
       "      <td>0.0</td>\n",
       "      <td>1.0</td>\n",
       "      <td>0.0</td>\n",
       "    </tr>\n",
       "    <tr>\n",
       "      <th>973</th>\n",
       "      <td>1</td>\n",
       "      <td>1.0</td>\n",
       "      <td>1.0</td>\n",
       "      <td>0.0</td>\n",
       "      <td>1.0</td>\n",
       "    </tr>\n",
       "    <tr>\n",
       "      <th>974</th>\n",
       "      <td>0</td>\n",
       "      <td>0.0</td>\n",
       "      <td>1.0</td>\n",
       "      <td>1.0</td>\n",
       "      <td>1.0</td>\n",
       "    </tr>\n",
       "    <tr>\n",
       "      <th>975</th>\n",
       "      <td>0</td>\n",
       "      <td>0.0</td>\n",
       "      <td>1.0</td>\n",
       "      <td>1.0</td>\n",
       "      <td>1.0</td>\n",
       "    </tr>\n",
       "    <tr>\n",
       "      <th>976</th>\n",
       "      <td>0</td>\n",
       "      <td>1.0</td>\n",
       "      <td>0.0</td>\n",
       "      <td>0.0</td>\n",
       "      <td>1.0</td>\n",
       "    </tr>\n",
       "    <tr>\n",
       "      <th>977</th>\n",
       "      <td>0</td>\n",
       "      <td>0.0</td>\n",
       "      <td>0.0</td>\n",
       "      <td>1.0</td>\n",
       "      <td>1.0</td>\n",
       "    </tr>\n",
       "    <tr>\n",
       "      <th>978</th>\n",
       "      <td>0</td>\n",
       "      <td>0.0</td>\n",
       "      <td>1.0</td>\n",
       "      <td>0.0</td>\n",
       "      <td>1.0</td>\n",
       "    </tr>\n",
       "    <tr>\n",
       "      <th>979</th>\n",
       "      <td>0</td>\n",
       "      <td>0.0</td>\n",
       "      <td>0.0</td>\n",
       "      <td>1.0</td>\n",
       "      <td>1.0</td>\n",
       "    </tr>\n",
       "    <tr>\n",
       "      <th>980</th>\n",
       "      <td>0</td>\n",
       "      <td>0.0</td>\n",
       "      <td>1.0</td>\n",
       "      <td>1.0</td>\n",
       "      <td>1.0</td>\n",
       "    </tr>\n",
       "    <tr>\n",
       "      <th>981</th>\n",
       "      <td>0</td>\n",
       "      <td>1.0</td>\n",
       "      <td>1.0</td>\n",
       "      <td>0.0</td>\n",
       "      <td>1.0</td>\n",
       "    </tr>\n",
       "    <tr>\n",
       "      <th>982</th>\n",
       "      <td>0</td>\n",
       "      <td>1.0</td>\n",
       "      <td>0.0</td>\n",
       "      <td>1.0</td>\n",
       "      <td>0.0</td>\n",
       "    </tr>\n",
       "    <tr>\n",
       "      <th>983</th>\n",
       "      <td>0</td>\n",
       "      <td>1.0</td>\n",
       "      <td>1.0</td>\n",
       "      <td>1.0</td>\n",
       "      <td>0.0</td>\n",
       "    </tr>\n",
       "    <tr>\n",
       "      <th>984</th>\n",
       "      <td>0</td>\n",
       "      <td>1.0</td>\n",
       "      <td>1.0</td>\n",
       "      <td>0.0</td>\n",
       "      <td>1.0</td>\n",
       "    </tr>\n",
       "    <tr>\n",
       "      <th>985</th>\n",
       "      <td>0</td>\n",
       "      <td>0.0</td>\n",
       "      <td>1.0</td>\n",
       "      <td>1.0</td>\n",
       "      <td>1.0</td>\n",
       "    </tr>\n",
       "    <tr>\n",
       "      <th>986</th>\n",
       "      <td>1</td>\n",
       "      <td>1.0</td>\n",
       "      <td>1.0</td>\n",
       "      <td>0.0</td>\n",
       "      <td>1.0</td>\n",
       "    </tr>\n",
       "    <tr>\n",
       "      <th>987</th>\n",
       "      <td>0</td>\n",
       "      <td>0.0</td>\n",
       "      <td>0.0</td>\n",
       "      <td>1.0</td>\n",
       "      <td>1.0</td>\n",
       "    </tr>\n",
       "    <tr>\n",
       "      <th>988</th>\n",
       "      <td>0</td>\n",
       "      <td>1.0</td>\n",
       "      <td>0.0</td>\n",
       "      <td>1.0</td>\n",
       "      <td>1.0</td>\n",
       "    </tr>\n",
       "    <tr>\n",
       "      <th>989</th>\n",
       "      <td>0</td>\n",
       "      <td>1.0</td>\n",
       "      <td>1.0</td>\n",
       "      <td>1.0</td>\n",
       "      <td>1.0</td>\n",
       "    </tr>\n",
       "    <tr>\n",
       "      <th>990</th>\n",
       "      <td>1</td>\n",
       "      <td>1.0</td>\n",
       "      <td>0.0</td>\n",
       "      <td>0.0</td>\n",
       "      <td>1.0</td>\n",
       "    </tr>\n",
       "    <tr>\n",
       "      <th>991</th>\n",
       "      <td>0</td>\n",
       "      <td>1.0</td>\n",
       "      <td>0.0</td>\n",
       "      <td>0.0</td>\n",
       "      <td>1.0</td>\n",
       "    </tr>\n",
       "    <tr>\n",
       "      <th>992</th>\n",
       "      <td>0</td>\n",
       "      <td>0.0</td>\n",
       "      <td>0.0</td>\n",
       "      <td>1.0</td>\n",
       "      <td>0.0</td>\n",
       "    </tr>\n",
       "    <tr>\n",
       "      <th>993</th>\n",
       "      <td>0</td>\n",
       "      <td>0.0</td>\n",
       "      <td>1.0</td>\n",
       "      <td>1.0</td>\n",
       "      <td>0.0</td>\n",
       "    </tr>\n",
       "    <tr>\n",
       "      <th>994</th>\n",
       "      <td>0</td>\n",
       "      <td>0.0</td>\n",
       "      <td>1.0</td>\n",
       "      <td>1.0</td>\n",
       "      <td>1.0</td>\n",
       "    </tr>\n",
       "    <tr>\n",
       "      <th>995</th>\n",
       "      <td>0</td>\n",
       "      <td>1.0</td>\n",
       "      <td>0.0</td>\n",
       "      <td>1.0</td>\n",
       "      <td>1.0</td>\n",
       "    </tr>\n",
       "    <tr>\n",
       "      <th>996</th>\n",
       "      <td>0</td>\n",
       "      <td>1.0</td>\n",
       "      <td>1.0</td>\n",
       "      <td>0.0</td>\n",
       "      <td>1.0</td>\n",
       "    </tr>\n",
       "    <tr>\n",
       "      <th>997</th>\n",
       "      <td>0</td>\n",
       "      <td>1.0</td>\n",
       "      <td>0.0</td>\n",
       "      <td>0.0</td>\n",
       "      <td>1.0</td>\n",
       "    </tr>\n",
       "    <tr>\n",
       "      <th>998</th>\n",
       "      <td>1</td>\n",
       "      <td>0.0</td>\n",
       "      <td>1.0</td>\n",
       "      <td>0.0</td>\n",
       "      <td>1.0</td>\n",
       "    </tr>\n",
       "    <tr>\n",
       "      <th>999</th>\n",
       "      <td>0</td>\n",
       "      <td>0.0</td>\n",
       "      <td>0.0</td>\n",
       "      <td>1.0</td>\n",
       "      <td>1.0</td>\n",
       "    </tr>\n",
       "  </tbody>\n",
       "</table>\n",
       "<p>1000 rows × 5 columns</p>\n",
       "</div>"
      ],
      "text/plain": [
       "     gt  alg_1  alg_2  alg_3  alg_4\n",
       "0     0    0.0    0.0    1.0    1.0\n",
       "1     0    1.0    1.0    1.0    1.0\n",
       "2     1    0.0    1.0    0.0    1.0\n",
       "3     1    1.0    1.0    0.0    1.0\n",
       "4     0    1.0    0.0    0.0    1.0\n",
       "5     0    1.0    0.0    0.0    1.0\n",
       "6     0    1.0    1.0    0.0    1.0\n",
       "7     0    0.0    1.0    1.0    1.0\n",
       "8     0    0.0    0.0    1.0    1.0\n",
       "9     0    0.0    1.0    1.0    0.0\n",
       "10    0    0.0    0.0    1.0    0.0\n",
       "11    1    1.0    0.0    0.0    1.0\n",
       "12    0    1.0    1.0    0.0    1.0\n",
       "13    0    0.0    1.0    1.0    0.0\n",
       "14    0    0.0    0.0    1.0    1.0\n",
       "15    1    1.0    1.0    0.0    1.0\n",
       "16    0    1.0    1.0    0.0    1.0\n",
       "17    0    0.0    1.0    0.0    1.0\n",
       "18    0    0.0    1.0    0.0    1.0\n",
       "19    0    1.0    1.0    1.0    1.0\n",
       "20    1    1.0    1.0    0.0    1.0\n",
       "21    0    0.0    1.0    1.0    1.0\n",
       "22    0    0.0    0.0    1.0    1.0\n",
       "23    0    0.0    0.0    0.0    1.0\n",
       "24    1    1.0    1.0    0.0    1.0\n",
       "25    1    1.0    1.0    0.0    1.0\n",
       "26    0    1.0    0.0    1.0    1.0\n",
       "27    0    1.0    0.0    1.0    1.0\n",
       "28    0    0.0    0.0    0.0    1.0\n",
       "29    0    1.0    0.0    1.0    1.0\n",
       "..   ..    ...    ...    ...    ...\n",
       "970   0    1.0    1.0    0.0    1.0\n",
       "971   1    1.0    1.0    0.0    1.0\n",
       "972   0    1.0    0.0    1.0    0.0\n",
       "973   1    1.0    1.0    0.0    1.0\n",
       "974   0    0.0    1.0    1.0    1.0\n",
       "975   0    0.0    1.0    1.0    1.0\n",
       "976   0    1.0    0.0    0.0    1.0\n",
       "977   0    0.0    0.0    1.0    1.0\n",
       "978   0    0.0    1.0    0.0    1.0\n",
       "979   0    0.0    0.0    1.0    1.0\n",
       "980   0    0.0    1.0    1.0    1.0\n",
       "981   0    1.0    1.0    0.0    1.0\n",
       "982   0    1.0    0.0    1.0    0.0\n",
       "983   0    1.0    1.0    1.0    0.0\n",
       "984   0    1.0    1.0    0.0    1.0\n",
       "985   0    0.0    1.0    1.0    1.0\n",
       "986   1    1.0    1.0    0.0    1.0\n",
       "987   0    0.0    0.0    1.0    1.0\n",
       "988   0    1.0    0.0    1.0    1.0\n",
       "989   0    1.0    1.0    1.0    1.0\n",
       "990   1    1.0    0.0    0.0    1.0\n",
       "991   0    1.0    0.0    0.0    1.0\n",
       "992   0    0.0    0.0    1.0    0.0\n",
       "993   0    0.0    1.0    1.0    0.0\n",
       "994   0    0.0    1.0    1.0    1.0\n",
       "995   0    1.0    0.0    1.0    1.0\n",
       "996   0    1.0    1.0    0.0    1.0\n",
       "997   0    1.0    0.0    0.0    1.0\n",
       "998   1    0.0    1.0    0.0    1.0\n",
       "999   0    0.0    0.0    1.0    1.0\n",
       "\n",
       "[1000 rows x 5 columns]"
      ]
     },
     "execution_count": 3,
     "metadata": {},
     "output_type": "execute_result"
    }
   ],
   "source": [
    "classification[classification >= 0.5] = 1\n",
    "classification[classification < 0.5] = 0\n",
    "classification"
   ]
  },
  {
   "cell_type": "code",
   "execution_count": 4,
   "metadata": {},
   "outputs": [
    {
     "data": {
      "text/plain": [
       "0.7871287128712872"
      ]
     },
     "execution_count": 4,
     "metadata": {},
     "output_type": "execute_result"
    }
   ],
   "source": [
    "TP1 = len(classification.loc[(classification['gt'] == 1) & (classification['alg_1'] == 1)])\n",
    "TN1 = len(classification.loc[(classification['gt'] == 0) & (classification['alg_1'] == 0)])\n",
    "FN1 = len(classification.loc[(classification['gt'] == 1) & (classification['alg_1'] == 0)])\n",
    "FP1 = len(classification.loc[(classification['gt'] == 0) & (classification['alg_1'] == 1)])\n",
    "\n",
    "(TP1)/(TP1+FN1)"
   ]
  },
  {
   "cell_type": "code",
   "execution_count": 5,
   "metadata": {},
   "outputs": [
    {
     "data": {
      "text/plain": [
       "0.616"
      ]
     },
     "execution_count": 5,
     "metadata": {},
     "output_type": "execute_result"
    }
   ],
   "source": [
    "accuracy1 = (TP1+TN1)/(TP1+TN1+FP1+FN1)\n",
    "accuracy1"
   ]
  },
  {
   "cell_type": "code",
   "execution_count": 6,
   "metadata": {},
   "outputs": [
    {
     "data": {
      "text/plain": [
       "0.6831683168316832"
      ]
     },
     "execution_count": 6,
     "metadata": {},
     "output_type": "execute_result"
    }
   ],
   "source": [
    "TP2 = len(classification.loc[(classification['gt'] == 1) & (classification['alg_2'] == 1)])\n",
    "TN2 = len(classification.loc[(classification['gt'] == 0) & (classification['alg_2'] == 0)])\n",
    "FN2 = len(classification.loc[(classification['gt'] == 1) & (classification['alg_2'] == 0)])\n",
    "FP2 = len(classification.loc[(classification['gt'] == 0) & (classification['alg_2'] == 1)])\n",
    "(TP2)/(TP2+ FN2)"
   ]
  },
  {
   "cell_type": "code",
   "execution_count": 7,
   "metadata": {},
   "outputs": [
    {
     "data": {
      "text/plain": [
       "0.55"
      ]
     },
     "execution_count": 7,
     "metadata": {},
     "output_type": "execute_result"
    }
   ],
   "source": [
    "accuracy2 = (TP2+TN2)/(TP2+TN2+FP2+FN2)\n",
    "accuracy2"
   ]
  },
  {
   "cell_type": "code",
   "execution_count": 8,
   "metadata": {},
   "outputs": [
    {
     "data": {
      "text/plain": [
       "0.0"
      ]
     },
     "execution_count": 8,
     "metadata": {},
     "output_type": "execute_result"
    }
   ],
   "source": [
    "TP3 = len(classification.loc[(classification['gt'] == 1) & (classification['alg_3'] == 1)])\n",
    "TN3 = len(classification.loc[(classification['gt'] == 0) & (classification['alg_3'] == 0)])\n",
    "FN3 = len(classification.loc[(classification['gt'] == 1) & (classification['alg_3'] == 0)])\n",
    "FP3 = len(classification.loc[(classification['gt'] == 0) & (classification['alg_3'] == 1)])\n",
    "(TP3)/(TP3+ FN3)"
   ]
  },
  {
   "cell_type": "code",
   "execution_count": 9,
   "metadata": {},
   "outputs": [
    {
     "data": {
      "text/plain": [
       "0.321"
      ]
     },
     "execution_count": 9,
     "metadata": {},
     "output_type": "execute_result"
    }
   ],
   "source": [
    "accuracy3 = (TP3+TN3)/(TP3+TN3+FP3+FN3)\n",
    "accuracy3"
   ]
  },
  {
   "cell_type": "code",
   "execution_count": 10,
   "metadata": {},
   "outputs": [
    {
     "data": {
      "text/plain": [
       "1.0"
      ]
     },
     "execution_count": 10,
     "metadata": {},
     "output_type": "execute_result"
    }
   ],
   "source": [
    "TP4 = len(classification.loc[(classification['gt'] == 1) & (classification['alg_4'] == 1)])\n",
    "TN4 = len(classification.loc[(classification['gt'] == 0) & (classification['alg_4'] == 0)])\n",
    "FN4 = len(classification.loc[(classification['gt'] == 1) & (classification['alg_4'] == 0)])\n",
    "FP4 = len(classification.loc[(classification['gt'] == 0) & (classification['alg_4'] == 1)])\n",
    "(TP4)/(TP4+ FN4)"
   ]
  },
  {
   "cell_type": "code",
   "execution_count": 11,
   "metadata": {},
   "outputs": [
    {
     "name": "stdout",
     "output_type": "stream",
     "text": [
      "159\n",
      "138\n",
      "0\n",
      "202\n"
     ]
    }
   ],
   "source": [
    "print(TP1)\n",
    "print(TP2)\n",
    "print(TP3)\n",
    "print(TP4)"
   ]
  },
  {
   "cell_type": "code",
   "execution_count": 12,
   "metadata": {},
   "outputs": [
    {
     "data": {
      "text/plain": [
       "0.329"
      ]
     },
     "execution_count": 12,
     "metadata": {},
     "output_type": "execute_result"
    }
   ],
   "source": [
    "accuracy4 = (TP4+TN4)/(TP4+TN4+FP4+FN4)\n",
    "accuracy4"
   ]
  },
  {
   "cell_type": "code",
   "execution_count": 13,
   "metadata": {},
   "outputs": [
    {
     "ename": "SyntaxError",
     "evalue": "invalid syntax (<ipython-input-13-5d59eab77936>, line 1)",
     "output_type": "error",
     "traceback": [
      "\u001b[0;36m  File \u001b[0;32m\"<ipython-input-13-5d59eab77936>\"\u001b[0;36m, line \u001b[0;32m1\u001b[0m\n\u001b[0;31m    alg_1 is the best as 0.616 > 0.55 > 0.329 > 0.321.\u001b[0m\n\u001b[0m                    ^\u001b[0m\n\u001b[0;31mSyntaxError\u001b[0m\u001b[0;31m:\u001b[0m invalid syntax\n"
     ]
    }
   ],
   "source": [
    "alg_1 is the best as 0.616 > 0.55 > 0.329 > 0.321.\n",
    "limiations:\n",
    "if a model whose TP is 0 and TN is large, we can still get good accuracy. However,\n",
    "this might not be a good model. \n",
    "Choosing model based on accuracy only concern the total number of TP plus TN but \n",
    "ignore the importance of TP."
   ]
  },
  {
   "cell_type": "markdown",
   "metadata": {},
   "source": [
    "(b)"
   ]
  },
  {
   "cell_type": "code",
   "execution_count": null,
   "metadata": {},
   "outputs": [],
   "source": [
    "\n",
    "path = os.path.join(os.getcwd(), 'data', 'classification_eval_1.csv')\n",
    "a = pd.read_csv(path)\n",
    "path = os.path.join(os.getcwd(), 'data', 'classification_eval_1.csv')\n",
    "b = pd.read_csv(path)\n",
    "a['alg_1']"
   ]
  },
  {
   "cell_type": "code",
   "execution_count": null,
   "metadata": {},
   "outputs": [],
   "source": [
    "roc_auc_score(a['gt'],a['alg_1'])"
   ]
  },
  {
   "cell_type": "code",
   "execution_count": null,
   "metadata": {},
   "outputs": [],
   "source": [
    "roc_auc_score(a['gt'],a['alg_2'])"
   ]
  },
  {
   "cell_type": "code",
   "execution_count": null,
   "metadata": {},
   "outputs": [],
   "source": [
    "roc_auc_score(a['gt'],a['alg_3'])"
   ]
  },
  {
   "cell_type": "code",
   "execution_count": null,
   "metadata": {},
   "outputs": [],
   "source": [
    "roc_auc_score(a['gt'],a['alg_4'])"
   ]
  },
  {
   "cell_type": "code",
   "execution_count": null,
   "metadata": {},
   "outputs": [],
   "source": [
    "alg_4 has the best AUC(0.847)."
   ]
  },
  {
   "cell_type": "markdown",
   "metadata": {},
   "source": [
    "(c)"
   ]
  },
  {
   "cell_type": "code",
   "execution_count": null,
   "metadata": {},
   "outputs": [],
   "source": [
    "path = os.path.join(os.getcwd(), 'data', 'classification_eval_1.csv')\n",
    "b = pd.read_csv(path)\n",
    "path = os.path.join(os.getcwd(), 'data', 'classification_eval_1.csv')\n",
    "c = pd.read_csv(path)\n",
    "b[b <= 0.5] = 0\n",
    "b[b >= 0.5] = 1\n",
    "b[b ==0] = 2\n",
    "b[b ==1] = 0\n",
    "b[b ==2] = 1\n",
    "b['alg_3']"
   ]
  },
  {
   "cell_type": "code",
   "execution_count": null,
   "metadata": {},
   "outputs": [],
   "source": [
    "roc_auc_score(a['gt'],b['alg_3'])"
   ]
  },
  {
   "cell_type": "code",
   "execution_count": 15,
   "metadata": {},
   "outputs": [
    {
     "name": "stdout",
     "output_type": "stream",
     "text": [
      "[2.00000000e+00 1.00000000e+00 9.97090318e-01 9.93053500e-01\n",
      " 9.92621152e-01 9.78165832e-01 9.77130768e-01 9.76375330e-01\n",
      " 9.67176205e-01 9.63889703e-01 9.49563150e-01 9.43951786e-01\n",
      " 9.37774271e-01 9.36021107e-01 9.32171942e-01 9.31317478e-01\n",
      " 9.30412101e-01 9.15962129e-01 9.13855633e-01 9.12446975e-01\n",
      " 9.12031572e-01 9.09521430e-01 9.07179511e-01 9.00195550e-01\n",
      " 9.00083858e-01 8.95527784e-01 8.95210804e-01 8.93520928e-01\n",
      " 8.93123644e-01 8.87320550e-01 8.86555671e-01 8.84283232e-01\n",
      " 8.82340937e-01 8.77370693e-01 8.75086131e-01 8.72626913e-01\n",
      " 8.72335844e-01 8.70147364e-01 8.67007364e-01 8.60916589e-01\n",
      " 8.60451513e-01 8.60085512e-01 8.58309603e-01 8.57338686e-01\n",
      " 8.56250617e-01 8.42655423e-01 8.39071972e-01 8.34543474e-01\n",
      " 8.33827253e-01 8.31258048e-01 8.28596962e-01 8.25531626e-01\n",
      " 8.25300834e-01 8.25084545e-01 8.18012563e-01 8.15772904e-01\n",
      " 8.13805950e-01 8.05518230e-01 8.04814873e-01 8.02281306e-01\n",
      " 7.98371871e-01 7.96695164e-01 7.95246440e-01 7.94633095e-01\n",
      " 7.93493671e-01 7.83884015e-01 7.83593345e-01 7.82190988e-01\n",
      " 7.80369673e-01 7.69523602e-01 7.67732167e-01 7.60407439e-01\n",
      " 7.59615794e-01 7.58962952e-01 7.53837868e-01 7.51310631e-01\n",
      " 7.49924943e-01 7.49368368e-01 7.44330586e-01 7.30850578e-01\n",
      " 7.28809116e-01 7.14808603e-01 7.12189720e-01 7.11145259e-01\n",
      " 7.03832204e-01 7.02154705e-01 7.00698873e-01 6.95440765e-01\n",
      " 6.91567307e-01 6.89713825e-01 6.80302680e-01 6.38079614e-01\n",
      " 6.36992701e-01 6.35644069e-01 6.29287285e-01 6.29224474e-01\n",
      " 6.27606894e-01 6.23575408e-01 6.22464286e-01 6.18786814e-01\n",
      " 6.16482351e-01 6.15651845e-01 6.12844445e-01 6.08016821e-01\n",
      " 6.06519577e-01 6.04692349e-01 5.93899101e-01 5.75692723e-01\n",
      " 5.75039568e-01 5.65259959e-01 5.61659961e-01 5.60728432e-01\n",
      " 5.59654106e-01 5.56814903e-01 5.56509079e-01 5.46920356e-01\n",
      " 5.42132889e-01 5.39564826e-01 5.38277323e-01 5.35772846e-01\n",
      " 5.34693328e-01 5.28752531e-01 5.28724106e-01 5.26561740e-01\n",
      " 5.25087682e-01 5.18832582e-01 5.18374942e-01 5.17292958e-01\n",
      " 5.16157285e-01 5.14862954e-01 5.13521717e-01 5.11916752e-01\n",
      " 5.09442268e-01 5.02210313e-01 4.95727689e-01 4.87751863e-01\n",
      " 4.85673824e-01 4.84354398e-01 4.78185023e-01 4.73445832e-01\n",
      " 4.71120922e-01 4.71087788e-01 4.69795097e-01 4.63364767e-01\n",
      " 4.63261369e-01 4.58020640e-01 4.56707276e-01 4.56075246e-01\n",
      " 4.52570497e-01 4.44172416e-01 4.42204327e-01 4.33853274e-01\n",
      " 4.29831736e-01 4.24858618e-01 4.23489631e-01 4.20704715e-01\n",
      " 4.19247550e-01 4.03881912e-01 4.03682432e-01 3.76968538e-01\n",
      " 3.73684163e-01 3.60887117e-01 3.59392540e-01 3.47983412e-01\n",
      " 3.46304844e-01 3.43252104e-01 3.40917750e-01 3.25391931e-01\n",
      " 3.23992626e-01 3.20759690e-01 3.19411753e-01 3.16438563e-01\n",
      " 3.12313989e-01 3.08145885e-01 3.08093020e-01 3.03209249e-01\n",
      " 2.99869300e-01 2.91412314e-01 2.89092004e-01 2.53755045e-01\n",
      " 2.49365829e-01 2.08925358e-01 2.07998670e-01 2.02684660e-01\n",
      " 1.99151794e-01 1.61179190e-01 1.56186514e-01 1.33808124e-01\n",
      " 1.32438567e-01 5.91948985e-02 5.71498405e-02 2.23038974e-02\n",
      " 1.81944424e-02 1.65989394e-02 1.12011423e-02 1.04775064e-03\n",
      " 0.00000000e+00]\n"
     ]
    },
    {
     "data": {
      "image/png": "[encoded data removed]",
      "text/plain": [
       "<Figure size 432x288 with 1 Axes>"
      ]
     },
     "metadata": {
      "needs_background": "light"
     },
     "output_type": "display_data"
    }
   ],
   "source": [
    "x = [[0, 0], [1, 1]] \n",
    "y = [[4, 7], [6, 3]]\n",
    "fpr, tpr, thresholds = roc_curve(a['gt'],a['alg_1'])\n",
    "print(thresholds)\n",
    "plt.plot(fpr, tpr, label='alg_1(area = 0.73)')\n",
    "fpr, tpr, thresholds = roc_curve(a['gt'],a['alg_2'])\n",
    "plt.plot(fpr, tpr, label='alg_2(area = 0.63)')\n",
    "fpr, tpr, thresholds = roc_curve(a['gt'],a['alg_3'])\n",
    "plt.plot(fpr, tpr, label='alg_3(area = 0.06)')\n",
    "fpr, tpr, thresholds = roc_curve(a['gt'],a['alg_4'])\n",
    "plt.plot(fpr, tpr, label='alg_4(area = 0.85)')\n",
    "plt.plot([0,1], [0,1],color = 'r', linestyle=\"--\",label='random guess')\n",
    "plt.title('roc_curve for different algorithms')\n",
    "plt.xlabel('False positive rate')\n",
    "plt.ylabel('True positive rate')\n",
    "plt.axes().set_aspect('equal')\n",
    "plt.legend(loc=[1, 0])\n",
    "plt.show()"
   ]
  },
  {
   "cell_type": "code",
   "execution_count": null,
   "metadata": {},
   "outputs": [],
   "source": [
    "x = [0, 0]\n",
    "y = [1, 1]\n",
    "plt.plot([0,1], [0,1])\n"
   ]
  },
  {
   "cell_type": "code",
   "execution_count": null,
   "metadata": {},
   "outputs": [],
   "source": []
  },
  {
   "cell_type": "code",
   "execution_count": null,
   "metadata": {},
   "outputs": [],
   "source": []
  },
  {
   "cell_type": "code",
   "execution_count": null,
   "metadata": {},
   "outputs": [],
   "source": []
  }
 ],
 "metadata": {
  "kernelspec": {
   "display_name": "Python 3",
   "language": "python",
   "name": "python3"
  },
  "language_info": {
   "codemirror_mode": {
    "name": "ipython",
    "version": 3
   },
   "file_extension": ".py",
   "mimetype": "text/x-python",
   "name": "python",
   "nbconvert_exporter": "python",
   "pygments_lexer": "ipython3",
   "version": "3.7.7"
  }
 },
 "nbformat": 4,
 "nbformat_minor": 4
}
