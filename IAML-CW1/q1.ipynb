{
 "cells": [
  {
   "cell_type": "code",
   "execution_count": 1,
   "metadata": {},
   "outputs": [
    {
     "name": "stderr",
     "output_type": "stream",
     "text": [
      "/Users/zico5288/opt/miniconda3/envs/py3iaml/lib/python3.7/site-packages/sklearn/utils/__init__.py:4: DeprecationWarning: Using or importing the ABCs from 'collections' instead of from 'collections.abc' is deprecated since Python 3.3,and in 3.9 it will stop working\n",
      "  from collections import Sequence\n"
     ]
    }
   ],
   "source": [
    "# Import packages\n",
    "import os\n",
    "import numpy as np \n",
    "import pandas as pd\n",
    "import matplotlib.pyplot as plt\n",
    "import seaborn as sns\n",
    "from sklearn.naive_bayes import MultinomialNB\n",
    "from sklearn.metrics import accuracy_score, confusion_matrix"
   ]
  },
  {
   "cell_type": "code",
   "execution_count": 2,
   "metadata": {},
   "outputs": [],
   "source": [
    "regression = pd.read_csv(os.path.join(os.getcwd(), 'data', 'regression_part1.csv'))"
   ]
  },
  {
   "cell_type": "markdown",
   "metadata": {},
   "source": [
    "(a)"
   ]
  },
  {
   "cell_type": "code",
   "execution_count": 3,
   "metadata": {},
   "outputs": [
    {
     "name": "stdout",
     "output_type": "stream",
     "text": [
      "       revision_time  exam_score\n",
      "count      50.000000   50.000000\n",
      "mean       22.220020   49.919860\n",
      "std        13.986112   20.925594\n",
      "min         2.723000   14.731000\n",
      "25%         8.570500   32.125000\n",
      "50%        21.688000   47.830500\n",
      "75%        32.257500   65.069750\n",
      "max        48.011000   94.945000\n",
      "<class 'pandas.core.frame.DataFrame'>\n",
      "RangeIndex: 50 entries, 0 to 49\n",
      "Data columns (total 2 columns):\n",
      "revision_time    50 non-null float64\n",
      "exam_score       50 non-null float64\n",
      "dtypes: float64(2)\n",
      "memory usage: 880.0 bytes\n",
      "None\n",
      "(50, 2)\n"
     ]
    }
   ],
   "source": [
    "print(regression.describe())\n",
    "print(regression.info())\n",
    "print(regression.shape)"
   ]
  },
  {
   "cell_type": "markdown",
   "metadata": {},
   "source": [
    "(b)"
   ]
  },
  {
   "cell_type": "code",
   "execution_count": 163,
   "metadata": {},
   "outputs": [
    {
     "name": "stdout",
     "output_type": "stream",
     "text": [
      "0.00000000000000000000\n"
     ]
    },
    {
     "data": {
      "text/plain": [
       "[17.897680258350174, 1.441140905437971]"
      ]
     },
     "execution_count": 163,
     "metadata": {},
     "output_type": "execute_result"
    }
   ],
   "source": [
    "# function\n",
    "from sklearn import linear_model\n",
    "reg = linear_model.LinearRegression(fit_intercept= False)\n",
    "revision_time_train = regression.loc[:, ['revision_time']].values\n",
    "exam_score_train = regression.loc[:, ['exam_score']].values\n",
    "w1 = np.insert(revision_time_train, 0, values = 1, axis = 1)\n",
    "reg.fit(w1, exam_score_train)\n",
    "print(format(reg.intercept_,'.20f'))\n",
    "exam_score_pred = reg.predict(w1)\n",
    "reg.coef_ = reg.coef_.tolist()\n",
    "reg.coef_[0]"
   ]
  },
  {
   "cell_type": "markdown",
   "metadata": {},
   "source": [
    "(c)"
   ]
  },
  {
   "cell_type": "code",
   "execution_count": 178,
   "metadata": {},
   "outputs": [
    {
     "data": {
      "image/png": "[encoded data removed]",
      "text/plain": [
       "<Figure size 432x288 with 1 Axes>"
      ]
     },
     "metadata": {
      "needs_background": "light"
     },
     "output_type": "display_data"
    }
   ],
   "source": [
    "\n",
    "from matplotlib.pyplot import MultipleLocator\n",
    "regression.plot(x='revision_time', y='exam_score', style='o',label = 'input data')\n",
    "plt.title('linear model of revision_time and exam_score')\n",
    "plt.xlabel('revision_time(in hours)')\n",
    "plt.ylabel('exam_score')\n",
    "plt.plot(revision_time_train, exam_score_pred,'r',label = 'linear regression')\n",
    "plt.xlim((0,50))\n",
    "plt.ylim((0,100))\n",
    "plt.grid()\n",
    "\n",
    "x_major_locator=MultipleLocator(5)\n",
    "\n",
    "y_major_locator=MultipleLocator(10)\n",
    "\n",
    "ax=plt.gca()\n",
    "\n",
    "ax.xaxis.set_major_locator(x_major_locator)\n",
    "\n",
    "ax.yaxis.set_major_locator(y_major_locator)\n",
    "\n",
    "plt.legend()\n",
    "plt.show()"
   ]
  },
  {
   "cell_type": "markdown",
   "metadata": {},
   "source": [
    "(d)"
   ]
  },
  {
   "cell_type": "code",
   "execution_count": 166,
   "metadata": {},
   "outputs": [
    {
     "name": "stdout",
     "output_type": "stream",
     "text": [
      "[17.89768026]\n",
      "[1.44114091]\n"
     ]
    },
    {
     "data": {
      "text/plain": [
       "[[17.897680258350192], [1.4411409054379702]]"
      ]
     },
     "execution_count": 166,
     "metadata": {},
     "output_type": "execute_result"
    }
   ],
   "source": [
    "time_train = np.insert(regression.loc[:, ['revision_time']].values, 0, values = 1, axis = 1)\n",
    "score_train = regression.loc[:, ['exam_score']].values\n",
    "a = (np.linalg.inv(time_train.transpose().dot(time_train)))\n",
    "w = a.dot(time_train.transpose()).dot(score_train)\n",
    "print(w[0])\n",
    "print(w[1])\n",
    "pre = w[0] + regression.loc[:, ['revision_time']].values * w[1]\n",
    "w = w.tolist()\n",
    "w"
   ]
  },
  {
   "cell_type": "markdown",
   "metadata": {},
   "source": [
    "(e)"
   ]
  },
  {
   "cell_type": "code",
   "execution_count": 134,
   "metadata": {},
   "outputs": [
    {
     "ename": "SyntaxError",
     "evalue": "unexpected character after line continuation character (<ipython-input-134-0bfbec21f461>, line 1)",
     "output_type": "error",
     "traceback": [
      "\u001b[0;36m  File \u001b[0;32m\"<ipython-input-134-0bfbec21f461>\"\u001b[0;36m, line \u001b[0;32m1\u001b[0m\n\u001b[0;31m    MSE = \\frac{1}{n}\\sum_{i=1}^{n}(y-\\hat{y})^2\u001b[0m\n\u001b[0m                                                ^\u001b[0m\n\u001b[0;31mSyntaxError\u001b[0m\u001b[0;31m:\u001b[0m unexpected character after line continuation character\n"
     ]
    }
   ],
   "source": [
    "MSE = \\frac{1}{n}\\sum_{i=1}^{n}(y-\\hat{y})^2\n",
    "\n",
    "Limitations:\n",
    "MSE could used for evaluating models when they have same number of datas.\n",
    "However, sometimes it is hard to use MSE to decide whether model is better where each model has different number of datas. \n",
    "Calculating MSE is related with the number of datas in dataset. \n",
    "For example, when there is a model A has 10000 datas and the MSE of model A is 100. \n",
    "Also there is a model B has 1000 datas and the MSE of model B is 80.\n",
    "Although 80<100, we could not say that the second model is greater than the first one."
   ]
  },
  {
   "cell_type": "markdown",
   "metadata": {},
   "source": [
    "(f)"
   ]
  },
  {
   "cell_type": "code",
   "execution_count": 135,
   "metadata": {},
   "outputs": [
    {
     "name": "stdout",
     "output_type": "stream",
     "text": [
      "30.9854726145413\n",
      "30.98547261454129\n"
     ]
    },
    {
     "data": {
      "text/plain": [
       "False"
      ]
     },
     "execution_count": 135,
     "metadata": {},
     "output_type": "execute_result"
    }
   ],
   "source": [
    "# exam_score_pred\n",
    "# MSE = np.sum(np.power(score_train - exam_score_pred, 2))/len(score_train)\n",
    "from sklearn.metrics import mean_squared_error\n",
    "MSE = mean_squared_error(score_train, exam_score_pred)\n",
    "MSE1 = mean_squared_error(score_train, pre)\n",
    "print(MSE)\n",
    "print(MSE1)\n",
    "MSE == MSE1"
   ]
  },
  {
   "cell_type": "code",
   "execution_count": 115,
   "metadata": {},
   "outputs": [
    {
     "ename": "SyntaxError",
     "evalue": "invalid syntax (<ipython-input-115-3d935dd37db3>, line 1)",
     "output_type": "error",
     "traceback": [
      "\u001b[0;36m  File \u001b[0;32m\"<ipython-input-115-3d935dd37db3>\"\u001b[0;36m, line \u001b[0;32m1\u001b[0m\n\u001b[0;31m    differences:\u001b[0m\n\u001b[0m                ^\u001b[0m\n\u001b[0;31mSyntaxError\u001b[0m\u001b[0;31m:\u001b[0m invalid syntax\n"
     ]
    }
   ],
   "source": [
    "differences:"
   ]
  },
  {
   "cell_type": "markdown",
   "metadata": {},
   "source": [
    "(g)"
   ]
  },
  {
   "cell_type": "code",
   "execution_count": 170,
   "metadata": {},
   "outputs": [
    {
     "name": "stdout",
     "output_type": "stream",
     "text": [
      "32.48096161535148\n",
      "83\n"
     ]
    },
    {
     "data": {
      "image/png": "[encoded data removed]",
      "text/plain": [
       "<Figure size 432x288 with 1 Axes>"
      ]
     },
     "metadata": {
      "needs_background": "light"
     },
     "output_type": "display_data"
    }
   ],
   "source": [
    "w1 = np.linspace(-2,2,100)\n",
    "pre = [20 + regression.loc[:, ['revision_time']].values * i for i in w1]\n",
    "MSE = [np.sum(np.power(score_train - i, 2))/len(score_train) for i in pre]\n",
    "plt.title('MSE in different w1')\n",
    "plt.xlabel('value of w1(we assume w0 = 20)')\n",
    "plt.ylabel('Mean Squared Error')\n",
    "minimum_index = MSE.index(min(MSE))\n",
    "minimum = min(MSE)\n",
    "print(minimum)\n",
    "print(minimum_index)\n",
    "w1[MSE.index(min(MSE))]\n",
    "plt.plot(w1, MSE,label = 'MSE with different w1')\n",
    "# plt.text(W-0.32,mse1+225,'({}, {})'.format(1.35, 32.48))\n",
    "plt.grid()\n",
    "plt.legend()\n",
    "plt.show()"
   ]
  },
  {
   "cell_type": "code",
   "execution_count": 75,
   "metadata": {},
   "outputs": [
    {
     "ename": "SyntaxError",
     "evalue": "invalid syntax (<ipython-input-75-eee0c9820dd0>, line 2)",
     "output_type": "error",
     "traceback": [
      "\u001b[0;36m  File \u001b[0;32m\"<ipython-input-75-eee0c9820dd0>\"\u001b[0;36m, line \u001b[0;32m2\u001b[0m\n\u001b[0;31m    minimum_index: 83rd in 100\u001b[0m\n\u001b[0m                      ^\u001b[0m\n\u001b[0;31mSyntaxError\u001b[0m\u001b[0;31m:\u001b[0m invalid syntax\n"
     ]
    }
   ],
   "source": [
    "minimum: 32.48096161535148\n",
    "minimum_index: 83rd in 100\n",
    "    \n",
    "Is this value to be expected?:\n"
   ]
  },
  {
   "cell_type": "code",
   "execution_count": 98,
   "metadata": {},
   "outputs": [
    {
     "data": {
      "text/plain": [
       "1.0658141036401503e-14"
      ]
     },
     "execution_count": 98,
     "metadata": {},
     "output_type": "execute_result"
    }
   ],
   "source": [
    "MSE -MSE1"
   ]
  },
  {
   "cell_type": "code",
   "execution_count": 31,
   "metadata": {},
   "outputs": [
    {
     "data": {
      "text/plain": [
       "<matplotlib.contour.QuadContourSet at 0x7fe068583c50>"
      ]
     },
     "execution_count": 31,
     "metadata": {},
     "output_type": "execute_result"
    },
    {
     "data": {
      "image/png": "[encoded data removed]",
      "text/plain": [
       "<Figure size 432x288 with 1 Axes>"
      ]
     },
     "metadata": {
      "needs_background": "light"
     },
     "output_type": "display_data"
    }
   ],
   "source": [
    "def f(x, y):\n",
    "     return (1-x/2+x**5+y**3) * np.exp(-x**2-y**2)\n",
    "n = 256\n",
    "x = np.linspace(-3, 3, n)\n",
    "y = np.linspace(-3, 3, n)\n",
    "\n",
    "X, Y = np.meshgrid(x, y)\n",
    "plt.contourf(X,Y,f(X, Y),cmap='coolwarm')"
   ]
  },
  {
   "cell_type": "code",
   "execution_count": 26,
   "metadata": {},
   "outputs": [
    {
     "data": {
      "text/plain": [
       "(256, 256)"
      ]
     },
     "execution_count": 26,
     "metadata": {},
     "output_type": "execute_result"
    }
   ],
   "source": [
    "X.shape"
   ]
  },
  {
   "cell_type": "code",
   "execution_count": 19,
   "metadata": {},
   "outputs": [
    {
     "data": {
      "text/plain": [
       "(256, 256)"
      ]
     },
     "execution_count": 19,
     "metadata": {},
     "output_type": "execute_result"
    }
   ],
   "source": [
    "f(X, Y).shape"
   ]
  },
  {
   "cell_type": "code",
   "execution_count": 22,
   "metadata": {},
   "outputs": [
    {
     "data": {
      "text/plain": [
       "array([1, 2])"
      ]
     },
     "execution_count": 22,
     "metadata": {},
     "output_type": "execute_result"
    }
   ],
   "source": [
    "a = np.array([1,2])\n",
    "a"
   ]
  },
  {
   "cell_type": "code",
   "execution_count": 27,
   "metadata": {},
   "outputs": [
    {
     "data": {
      "text/plain": [
       "(256, 256)"
      ]
     },
     "execution_count": 27,
     "metadata": {},
     "output_type": "execute_result"
    }
   ],
   "source": [
    "Y.shape"
   ]
  },
  {
   "cell_type": "code",
   "execution_count": null,
   "metadata": {},
   "outputs": [],
   "source": []
  }
 ],
 "metadata": {
  "kernelspec": {
   "display_name": "Python 3",
   "language": "python",
   "name": "python3"
  },
  "language_info": {
   "codemirror_mode": {
    "name": "ipython",
    "version": 3
   },
   "file_extension": ".py",
   "mimetype": "text/x-python",
   "name": "python",
   "nbconvert_exporter": "python",
   "pygments_lexer": "ipython3",
   "version": "3.7.7"
  }
 },
 "nbformat": 4,
 "nbformat_minor": 4
}
