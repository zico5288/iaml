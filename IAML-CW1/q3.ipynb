{
 "cells": [
  {
   "cell_type": "markdown",
   "metadata": {},
   "source": [
    "(a)"
   ]
  },
  {
   "cell_type": "code",
   "execution_count": 182,
   "metadata": {},
   "outputs": [],
   "source": [
    "# Import packages\n",
    "import os\n",
    "import matplotlib as mpl\n",
    "import numpy as np \n",
    "import pandas as pd\n",
    "import matplotlib.pyplot as plt\n",
    "import seaborn as sns\n",
    "from sklearn.naive_bayes import MultinomialNB\n",
    "from sklearn.metrics import accuracy_score, confusion_matrix\n",
    "from sklearn.preprocessing import PolynomialFeatures\n",
    "from sklearn import linear_model\n",
    "from sklearn.metrics import mean_squared_error\n",
    "import graphviz\n",
    "from sklearn import tree\n",
    "from sklearn.model_selection import train_test_split\n",
    "from sklearn.linear_model import LinearRegression\n",
    "from sklearn.tree import DecisionTreeClassifier, export_graphviz\n",
    "from sklearn.ensemble import RandomForestClassifier\n",
    "from sklearn.metrics import accuracy_score, confusion_matrix, r2_score"
   ]
  },
  {
   "cell_type": "code",
   "execution_count": 205,
   "metadata": {},
   "outputs": [],
   "source": [
    "# read csv file\n",
    "faces_path1 = os.path.join(os.getcwd(), 'data', 'faces_train_data.csv')\n",
    "faces_train = pd.read_csv(faces_path1)\n",
    "faces_path2 = os.path.join(os.getcwd(), 'data', 'faces_test_data.csv')\n",
    "faces_test = pd.read_csv(faces_path2)\n",
    "face_train = pd.read_csv(faces_path1)"
   ]
  },
  {
   "cell_type": "code",
   "execution_count": null,
   "metadata": {},
   "outputs": [],
   "source": []
  },
  {
   "cell_type": "code",
   "execution_count": 207,
   "metadata": {},
   "outputs": [
    {
     "data": {
      "text/plain": [
       "(1200, 137)"
      ]
     },
     "execution_count": 207,
     "metadata": {},
     "output_type": "execute_result"
    }
   ],
   "source": [
    "faces_train_0 = faces_train[faces_train.smiling == 0]\n",
    "faces_train_1 = faces_train[faces_train.smiling == 1]\n",
    "faces_test_0 = faces_test[faces_test.smiling == 0]\n",
    "faces_test_1 = faces_test[faces_test.smiling == 1]\n",
    "faces_test.shape"
   ]
  },
  {
   "cell_type": "code",
   "execution_count": 208,
   "metadata": {},
   "outputs": [
    {
     "name": "stdout",
     "output_type": "stream",
     "text": [
      "count    2465.000000\n",
      "mean       -0.181056\n",
      "std         0.033320\n",
      "min        -0.311000\n",
      "25%        -0.202000\n",
      "50%        -0.184000\n",
      "75%        -0.164000\n",
      "max         0.110000\n",
      "Name: x50, dtype: float64\n",
      "count    2335.000000\n",
      "mean       -0.221012\n",
      "std         0.031722\n",
      "min        -0.332000\n",
      "25%        -0.242000\n",
      "50%        -0.222000\n",
      "75%        -0.200000\n",
      "max        -0.089000\n",
      "Name: x50, dtype: float64\n",
      "               x0          y0          x1          y1          x2          y2  \\\n",
      "count  608.000000  608.000000  608.000000  608.000000  608.000000  608.000000   \n",
      "mean    -1.924752    1.463143   -1.910474    1.017789   -1.844225    0.566248   \n",
      "std      0.672379    0.463935    0.634122    0.436303    0.617002    0.410027   \n",
      "min     -3.846000   -2.116000   -3.673000   -2.341000   -3.487000   -2.539000   \n",
      "25%     -2.311000    1.206750   -2.265750    0.785500   -2.198500    0.342000   \n",
      "50%     -1.952500    1.473000   -1.932000    1.031000   -1.861500    0.594500   \n",
      "75%     -1.587250    1.733250   -1.558000    1.275250   -1.458750    0.801250   \n",
      "max      1.613000    2.899000    1.067000    2.834000    0.522000    2.705000   \n",
      "\n",
      "               x3          y3          x4          y4   ...            y63  \\\n",
      "count  608.000000  608.000000  608.000000  608.000000   ...     608.000000   \n",
      "mean    -1.725278    0.119426   -1.532875   -0.295164   ...      -0.123036   \n",
      "std      0.611666    0.384095    0.579253    0.354103   ...       0.050851   \n",
      "min     -3.287000   -2.624000   -3.005000   -2.511000   ...      -0.280000   \n",
      "25%     -2.108500   -0.099750   -1.915000   -0.503250   ...      -0.156250   \n",
      "50%     -1.755500    0.146000   -1.582500   -0.274000   ...      -0.120500   \n",
      "75%     -1.352250    0.341000   -1.173250   -0.085750   ...      -0.093000   \n",
      "max      0.000000    2.510000    0.309000    2.213000   ...       0.248000   \n",
      "\n",
      "              x64         y64         x65         y65         x66         y66  \\\n",
      "count  608.000000  608.000000  608.000000  608.000000  608.000000  608.000000   \n",
      "mean     0.609617   -0.141867    0.197806   -0.205095    0.004628   -0.225551   \n",
      "std      0.187267    0.146842    0.079944    0.131766    0.074741    0.125595   \n",
      "min     -0.133000   -0.672000   -0.282000   -1.087000   -0.507000   -1.109000   \n",
      "25%      0.521750   -0.214000    0.168750   -0.261000   -0.026250   -0.274000   \n",
      "50%      0.636000   -0.137000    0.206000   -0.174000    0.000000   -0.188000   \n",
      "75%      0.733250   -0.059750    0.239000   -0.127000    0.036000   -0.149750   \n",
      "max      1.078000    0.702000    0.440000    0.248000    0.330000    0.041000   \n",
      "\n",
      "              x67         y67  smiling  \n",
      "count  608.000000  608.000000    608.0  \n",
      "mean    -0.187484   -0.211433      0.0  \n",
      "std      0.086454    0.127334      0.0  \n",
      "min     -0.732000   -1.087000      0.0  \n",
      "25%     -0.229000   -0.261250      0.0  \n",
      "50%     -0.196500   -0.177000      0.0  \n",
      "75%     -0.159750   -0.135000      0.0  \n",
      "max      0.259000    0.168000      0.0  \n",
      "\n",
      "[8 rows x 137 columns]\n",
      "               x0          y0          x1          y1          x2          y2  \\\n",
      "count  592.000000  592.000000  592.000000  592.000000  592.000000  592.000000   \n",
      "mean    -1.923441    1.469958   -1.917431    1.012838   -1.864934    0.546645   \n",
      "std      0.482960    0.351248    0.444255    0.335878    0.421525    0.321031   \n",
      "min     -3.327000   -1.039000   -3.286000   -1.385000   -3.253000   -1.707000   \n",
      "25%     -2.201250    1.261750   -2.172250    0.830000   -2.124000    0.384000   \n",
      "50%     -1.934000    1.462500   -1.915000    1.005500   -1.860500    0.532500   \n",
      "75%     -1.680000    1.649000   -1.684750    1.184750   -1.630500    0.712250   \n",
      "max      0.000000    3.641000   -0.256000    3.205000   -0.475000    2.718000   \n",
      "\n",
      "               x3          y3          x4          y4   ...            y63  \\\n",
      "count  592.000000  592.000000  592.000000  592.000000   ...     592.000000   \n",
      "mean    -1.759900    0.080880   -1.565791   -0.349610   ...      -0.095791   \n",
      "std      0.416766    0.306043    0.398164    0.284367   ...       0.043272   \n",
      "min     -3.109000   -1.954000   -2.793000   -2.053000   ...      -0.229000   \n",
      "25%     -2.005250   -0.084000   -1.808000   -0.500750   ...      -0.126000   \n",
      "50%     -1.762000    0.075000   -1.582000   -0.352000   ...      -0.093000   \n",
      "75%     -1.531500    0.246000   -1.367750   -0.193000   ...      -0.066750   \n",
      "max     -0.487000    2.179000   -0.279000    1.564000   ...       0.074000   \n",
      "\n",
      "              x64         y64         x65         y65         x66         y66  \\\n",
      "count  592.000000  592.000000  592.000000  592.000000  592.000000  592.000000   \n",
      "mean     0.766341   -0.059873    0.246079   -0.309954    0.004253   -0.338899   \n",
      "std      0.186377    0.135483    0.078896    0.131979    0.072609    0.128769   \n",
      "min      0.122000   -0.526000   -0.098000   -0.895000   -0.377000   -0.951000   \n",
      "25%      0.664000   -0.138250    0.208000   -0.397000   -0.029000   -0.417250   \n",
      "50%      0.781000   -0.053500    0.247000   -0.318500    0.000000   -0.350000   \n",
      "75%      0.884000    0.023000    0.290000   -0.220750    0.037250   -0.250000   \n",
      "max      1.269000    0.388000    0.603000   -0.000000    0.411000   -0.038000   \n",
      "\n",
      "              x67         y67  smiling  \n",
      "count  592.000000  592.000000    592.0  \n",
      "mean    -0.235488   -0.314767      1.0  \n",
      "std      0.080761    0.127797      0.0  \n",
      "min     -0.613000   -0.932000      1.0  \n",
      "25%     -0.282000   -0.401250      1.0  \n",
      "50%     -0.236000   -0.326000      1.0  \n",
      "75%     -0.196000   -0.220000      1.0  \n",
      "max      0.218000    0.025000      1.0  \n",
      "\n",
      "[8 rows x 137 columns]\n"
     ]
    }
   ],
   "source": [
    "print(faces_train_0.loc[:, 'x50'].describe())\n",
    "print(faces_train_1.loc[:, 'x50'].describe())\n",
    "print(faces_test_0.describe())\n",
    "print(faces_test_1.describe())"
   ]
  },
  {
   "cell_type": "markdown",
   "metadata": {},
   "source": [
    "(b)"
   ]
  },
  {
   "cell_type": "code",
   "execution_count": 241,
   "metadata": {},
   "outputs": [
    {
     "data": {
      "image/png": "[encoded data removed]",
      "text/plain": [
       "<Figure size 360x360 with 1 Axes>"
      ]
     },
     "metadata": {
      "needs_background": "light"
     },
     "output_type": "display_data"
    }
   ],
   "source": [
    "from matplotlib.pyplot import MultipleLocator\n",
    "plt.figure(figsize=(5,5)) \n",
    "x1 = faces_train_0.mean()[0::2]\n",
    "x1 = x1.drop('smiling')\n",
    "y1 = faces_train_0.mean()[1::2]\n",
    "plt.scatter(x1,y1,label = 'smiling = 0(non-smiling)')\n",
    "x2 = faces_train_1.mean()[0::2]\n",
    "x2 = x2.drop('smiling')\n",
    "y2 = faces_train_1.mean()[1::2]\n",
    "ax = plt.scatter(x2,y2,label = 'smiling = 1(smiling)')\n",
    "plt.title('Two faces where simling = 0(non-smiling) and 1(smiling)')\n",
    "plt.xlabel('value of x coordinate')\n",
    "plt.ylabel('value of y coordinate')\n",
    "plt.xlim((-2.5,2.5))\n",
    "plt.ylim((-2.5,2.5))\n",
    "plt.axes().set_aspect('equal')\n",
    "x_major_locator=MultipleLocator(0.5)\n",
    "\n",
    "y_major_locator=MultipleLocator(0.5)\n",
    "\n",
    "ax=plt.gca()\n",
    "\n",
    "ax.xaxis.set_major_locator(x_major_locator)\n",
    "\n",
    "ax.yaxis.set_major_locator(y_major_locator)\n",
    "plt.legend()\n",
    "plt.show()"
   ]
  },
  {
   "cell_type": "code",
   "execution_count": 212,
   "metadata": {},
   "outputs": [
    {
     "name": "stdout",
     "output_type": "stream",
     "text": [
      "         x0     y0     x1     y1     x2     y2     x3     y3     x4     y4  \\\n",
      "0    -1.861  1.350 -1.835  0.892 -1.756  0.458 -1.704 -0.000 -1.625 -0.458   \n",
      "3    -1.660  1.812 -1.701  1.324 -1.660  0.801 -1.620  0.314 -1.498 -0.139   \n",
      "4    -1.776  1.551 -1.693  1.140 -1.549  0.729 -1.363  0.318 -1.115 -0.075   \n",
      "7     0.237  1.515 -0.068  1.267 -0.271  0.909 -0.338  0.523 -0.406  0.138   \n",
      "9    -2.008  1.898 -1.971  1.432 -1.858  0.965 -1.708  0.515 -1.502  0.080   \n",
      "11   -2.374  1.335 -2.226  0.861 -2.028  0.387 -1.830 -0.086 -1.583 -0.517   \n",
      "15   -3.501  0.918 -3.405  0.393 -3.261 -0.175 -3.021 -0.700 -2.589 -1.093   \n",
      "23   -1.931  1.802 -1.931  1.345 -1.864  0.901 -1.763  0.443 -1.595  0.014   \n",
      "25   -2.293  0.763 -2.012  0.339 -1.638  0.042 -1.217 -0.212 -0.795 -0.424   \n",
      "28   -1.100  1.719 -1.125  1.329 -1.100  0.894 -1.025  0.458 -0.925  0.046   \n",
      "30   -2.320  2.010 -2.431  1.513 -2.476  0.974 -2.454  0.435 -2.298 -0.041   \n",
      "32   -1.861  1.082 -1.765  0.674 -1.622  0.265 -1.503 -0.163 -1.336 -0.572   \n",
      "33   -0.844  1.286 -0.844  0.932 -0.776  0.579 -0.607  0.225 -0.371 -0.096   \n",
      "36   -1.931  2.005 -2.003  1.520 -2.003  1.035 -1.967  0.517 -1.858  0.065   \n",
      "40   -1.226  1.708 -1.263  1.277 -1.263  0.828 -1.226  0.380 -1.150 -0.052   \n",
      "41   -2.292  1.284 -2.229  0.805 -2.145  0.345 -2.040 -0.134 -1.829 -0.556   \n",
      "43   -1.966  1.778 -2.004  1.305 -2.004  0.832 -2.004  0.343 -1.908 -0.114   \n",
      "44   -1.485  1.321 -1.430  0.914 -1.265  0.508 -1.045  0.152 -0.770 -0.203   \n",
      "45   -1.463  1.068 -1.506  0.712 -1.420  0.324 -1.334 -0.065 -1.205 -0.421   \n",
      "49   -2.110  2.649 -2.266  2.097 -2.383  1.527 -2.442  0.956 -2.325  0.423   \n",
      "50   -2.883  2.433 -2.945  1.892 -2.945  1.298 -2.820  0.757 -2.569  0.216   \n",
      "51   -1.801  2.205 -1.876  1.712 -1.838  1.185 -1.838  0.691 -1.726  0.230   \n",
      "52   -2.791  1.242 -2.648  0.719 -2.505  0.262 -2.290 -0.196 -1.932 -0.654   \n",
      "55   -1.085  1.287 -1.158  0.920 -1.158  0.490 -1.085  0.061 -1.013 -0.307   \n",
      "56   -2.766  0.356 -2.522 -0.079 -2.212 -0.514 -1.881 -0.929 -1.482 -1.246   \n",
      "59   -1.989  1.756 -1.892  1.284 -1.746  0.811 -1.576  0.360 -1.334 -0.068   \n",
      "60   -1.935  1.238 -1.940  0.809 -1.893  0.375 -1.815 -0.068 -1.684 -0.479   \n",
      "65   -1.575 -0.640 -1.280 -0.927 -0.985 -1.215 -0.689 -1.471 -0.394 -1.727   \n",
      "66   -1.138  1.451 -1.138  1.060 -1.138  0.670 -1.011  0.279 -0.822 -0.167   \n",
      "68   -1.687  1.294 -1.738  0.858 -1.738  0.422 -1.687 -0.014 -1.568 -0.436   \n",
      "...     ...    ...    ...    ...    ...    ...    ...    ...    ...    ...   \n",
      "4739 -2.210  2.361 -2.362  1.840 -2.477  1.319 -2.477  0.797 -2.324  0.276   \n",
      "4740 -0.644  1.574 -0.703  1.250 -0.703  0.833 -0.586  0.463 -0.469  0.093   \n",
      "4741 -2.184  1.995 -2.208  1.525 -2.196  1.033 -2.137  0.532 -1.985  0.061   \n",
      "4745 -2.131  1.880 -2.149  1.389 -2.131  0.866 -2.039  0.376 -1.818 -0.082   \n",
      "4747 -2.572  0.914 -2.370  0.451 -2.143 -0.000 -1.903 -0.440 -1.588 -0.821   \n",
      "4749 -2.938  0.997 -2.728  0.512 -2.488  0.054 -2.188 -0.404 -1.829 -0.782   \n",
      "4750 -1.902  1.507 -1.902  1.033 -1.796  0.603 -1.743  0.129 -1.638 -0.301   \n",
      "4753 -1.343  1.128 -1.365  0.738 -1.321  0.308 -1.233 -0.103 -1.123 -0.513   \n",
      "4758 -2.575  1.951 -2.550  1.413 -2.453  0.852 -2.332  0.314 -2.065 -0.157   \n",
      "4768 -2.914  1.912 -2.914  1.396 -2.878  0.880 -2.770  0.334 -2.446 -0.121   \n",
      "4771 -2.557  0.590 -2.366  0.131 -2.099 -0.295 -1.794 -0.688 -1.450 -1.049   \n",
      "4773 -2.117  1.770 -2.117  1.275 -2.048  0.765 -1.961  0.255 -1.770 -0.225   \n",
      "4775 -1.101  1.217 -1.101  0.843 -0.995  0.437 -0.817  0.062 -0.568 -0.281   \n",
      "4776 -0.938  1.122 -1.059  0.739 -1.089  0.357 -0.998 -0.051 -0.877 -0.433   \n",
      "4777 -2.919  1.290 -2.824  0.757 -2.697  0.224 -2.507 -0.308 -2.158 -0.757   \n",
      "4778 -2.542  1.361 -2.501  0.872 -2.419  0.349 -2.296 -0.140 -2.050 -0.558   \n",
      "4782 -2.262  1.616 -2.262  1.119 -2.217  0.622 -2.127  0.145 -1.948 -0.311   \n",
      "4783 -1.219  1.586 -1.241  1.203 -1.198  0.820 -1.070  0.419 -0.898  0.036   \n",
      "4784 -1.815  1.711 -1.776  1.220 -1.678  0.746 -1.522  0.273 -1.346 -0.164   \n",
      "4785 -2.057  1.931 -1.999  1.484 -1.883  1.013 -1.767  0.542 -1.564  0.094   \n",
      "4786 -1.246  1.139 -1.246  0.732 -1.150  0.325 -1.006 -0.041 -0.863 -0.447   \n",
      "4787 -0.684  3.047 -1.049  2.596 -1.384  2.130 -1.643  1.617 -1.764  1.073   \n",
      "4788 -3.319  1.727 -3.336  1.200 -3.285  0.659 -3.130  0.102 -2.803 -0.366   \n",
      "4789 -1.833  1.295 -1.726  0.863 -1.510  0.432 -1.267  0.051 -1.025 -0.330   \n",
      "4790 -2.358  2.872 -2.535  2.309 -2.771  1.689 -2.829  1.126 -2.712  0.507   \n",
      "4791 -2.686  1.193 -2.686  0.708 -2.604  0.224 -2.438 -0.261 -2.190 -0.671   \n",
      "4793 -1.945  1.348 -1.906  0.915 -1.788  0.483 -1.670  0.067 -1.533 -0.349   \n",
      "4794 -0.335  1.545 -0.548  1.204 -0.640  0.838 -0.670  0.419 -0.701  0.026   \n",
      "4797 -1.996  1.465 -1.931  1.015 -1.770  0.592 -1.642  0.141 -1.448 -0.282   \n",
      "4798 -1.871  1.626 -1.842  1.201 -1.756  0.776 -1.640  0.350 -1.525 -0.075   \n",
      "\n",
      "      ...      x63    y63    x64    y64    x65    y65    x66    y66    x67  \\\n",
      "0     ...    0.183 -0.160  0.498 -0.343  0.183 -0.389 -0.026 -0.389 -0.210   \n",
      "3     ...    0.283 -0.070  0.891 -0.035  0.283 -0.279  0.000 -0.279 -0.283   \n",
      "4     ...    0.207 -0.093  0.764  0.056  0.227 -0.112  0.041 -0.150 -0.145   \n",
      "7     ...    0.102 -0.193  0.575 -0.661 -0.068 -0.661 -0.237 -0.551 -0.338   \n",
      "9     ...    0.244 -0.113  0.638 -0.064  0.244 -0.129  0.000 -0.161 -0.244   \n",
      "11    ...    0.247 -0.086  0.594 -0.043  0.247 -0.086  0.049 -0.172 -0.148   \n",
      "15    ...    0.096 -0.175  0.240 -0.306  0.096 -0.350  0.000 -0.350 -0.192   \n",
      "23    ...    0.218 -0.114  0.672 -0.072  0.218 -0.114  0.000 -0.143 -0.218   \n",
      "25    ...    0.234 -0.000  0.702  0.254  0.281 -0.042  0.140 -0.127 -0.047   \n",
      "28    ...    0.175 -0.160  0.700 -0.252  0.175 -0.229  0.000 -0.229 -0.175   \n",
      "30    ...    0.067 -0.207  0.290 -0.269  0.067 -0.207 -0.089 -0.187 -0.245   \n",
      "32    ...    0.286 -0.143  0.787 -0.122  0.286 -0.163  0.048 -0.204 -0.191   \n",
      "33    ...    0.236 -0.096  0.844  0.032  0.236 -0.129  0.101 -0.161 -0.034   \n",
      "36    ...    0.182 -0.129  0.510 -0.226  0.182 -0.194 -0.036 -0.194 -0.255   \n",
      "40    ...    0.207 -0.121  0.792 -0.104  0.207 -0.155  0.000 -0.155 -0.189   \n",
      "41    ...    0.210 -0.077  0.610 -0.153  0.210 -0.096  0.000 -0.115 -0.210   \n",
      "43    ...    0.173 -0.130  0.482 -0.196  0.173 -0.130 -0.039 -0.130 -0.251   \n",
      "44    ...    0.220 -0.102  0.715  0.051  0.220 -0.102  0.055 -0.152 -0.110   \n",
      "45    ...    0.215 -0.194  0.731 -0.356  0.215 -0.518  0.000 -0.550 -0.172   \n",
      "49    ...    0.078 -0.147  0.273 -0.221  0.078 -0.166 -0.078 -0.129 -0.254   \n",
      "50    ...    0.063 -0.108  0.188 -0.108  0.063 -0.108 -0.125 -0.162 -0.251   \n",
      "51    ...    0.150 -0.099  0.600 -0.066  0.150 -0.099 -0.038 -0.099 -0.225   \n",
      "52    ...    0.215 -0.065  0.501 -0.065  0.215 -0.131  0.072 -0.131 -0.143   \n",
      "55    ...    0.217 -0.123  0.724 -0.184  0.217 -0.184  0.000 -0.184 -0.145   \n",
      "56    ...    0.265 -0.059  0.619 -0.020  0.332 -0.218  0.155 -0.297 -0.044   \n",
      "59    ...    0.194 -0.090  0.631 -0.045  0.194 -0.090  0.024 -0.135 -0.170   \n",
      "60    ...    0.188 -0.194  0.565 -0.334  0.178 -0.348 -0.026 -0.348 -0.230   \n",
      "65    ...    0.328 -0.096  0.853 -0.032  0.459 -0.224  0.295 -0.352  0.131   \n",
      "66    ...    0.190 -0.167  0.695 -0.279  0.190 -0.335  0.000 -0.335 -0.126   \n",
      "68    ...    0.187 -0.141  0.699 -0.352  0.153 -0.549 -0.068 -0.549 -0.273   \n",
      "...   ...      ...    ...    ...    ...    ...    ...    ...    ...    ...   \n",
      "4739  ...    0.114 -0.092  0.267 -0.184 -0.038 -0.368 -0.229 -0.399 -0.419   \n",
      "4740  ...    0.234 -0.093  0.996 -0.185  0.293 -0.324  0.059 -0.324 -0.117   \n",
      "4741  ...    0.176 -0.133  0.528 -0.143  0.188 -0.143 -0.023 -0.143 -0.235   \n",
      "4745  ...    0.184 -0.082  0.533 -0.033  0.184 -0.131 -0.018 -0.163 -0.202   \n",
      "4747  ...    0.240 -0.116  0.643 -0.046  0.252 -0.116  0.050 -0.174 -0.151   \n",
      "4749  ...    0.210 -0.081  0.510 -0.027  0.210 -0.108  0.060 -0.189 -0.150   \n",
      "4750  ...    0.211 -0.129  0.687 -0.258  0.211 -0.301  0.000 -0.344 -0.264   \n",
      "4753  ...    0.198 -0.144  0.793 -0.246  0.220 -0.287  0.022 -0.287 -0.154   \n",
      "4758  ...    0.146 -0.112  0.389 -0.157  0.146 -0.202  0.000 -0.247 -0.194   \n",
      "4768  ...    0.144 -0.091  0.324 -0.121  0.108 -0.212 -0.036 -0.243 -0.216   \n",
      "4771  ...    0.267 -0.066  0.687 -0.066  0.382 -0.295  0.191 -0.361  0.000   \n",
      "4773  ...    0.208 -0.060  0.590 -0.015  0.208 -0.060  0.017 -0.105 -0.191   \n",
      "4775  ...    0.213 -0.031  0.746  0.094  0.213 -0.031  0.071 -0.094 -0.107   \n",
      "4776  ...    0.242 -0.178  0.938 -0.331  0.242 -0.510 -0.030 -0.535 -0.242   \n",
      "4777  ...    0.190 -0.056  0.444 -0.056  0.190 -0.056  0.000 -0.112 -0.190   \n",
      "4778  ...    0.246 -0.105  0.615 -0.070  0.246 -0.174  0.000 -0.209 -0.205   \n",
      "4782  ...    0.157 -0.166  0.537 -0.145  0.157 -0.166 -0.022 -0.186 -0.202   \n",
      "4783  ...    0.193 -0.091  0.813 -0.073  0.214 -0.146  0.021 -0.146 -0.150   \n",
      "4784  ...    0.215 -0.127  0.683 -0.127  0.215 -0.164  0.000 -0.182 -0.195   \n",
      "4785  ...    0.203 -0.118  0.579 -0.118  0.203 -0.165  0.000 -0.188 -0.203   \n",
      "4786  ...    0.192 -0.122  0.767 -0.163  0.192 -0.122  0.000 -0.163 -0.192   \n",
      "4787  ...    0.046 -0.187  0.243 -0.342  0.000 -0.249 -0.152 -0.155 -0.289   \n",
      "4788  ...    0.103 -0.205  0.206 -0.278  0.069 -0.263 -0.086 -0.249 -0.292   \n",
      "4789  ...    0.216 -0.076  0.728 -0.025  0.216 -0.102  0.027 -0.152 -0.162   \n",
      "4790  ...    0.000 -0.113  0.000 -0.113 -0.059 -0.113 -0.118 -0.113 -0.236   \n",
      "4791  ...    0.165 -0.149  0.455 -0.335  0.165 -0.410  0.000 -0.447 -0.207   \n",
      "4793  ...    0.197 -0.183  0.629 -0.266  0.216 -0.283  0.020 -0.299 -0.197   \n",
      "4794  ...    0.122 -0.209  0.640 -0.524  0.091 -0.393 -0.091 -0.340 -0.213   \n",
      "4797  ...    0.225 -0.085  0.708  0.085  0.257 -0.113  0.032 -0.169 -0.161   \n",
      "4798  ...    0.173 -0.125  0.604 -0.150  0.173 -0.150 -0.029 -0.150 -0.201   \n",
      "\n",
      "        y67  \n",
      "0    -0.389  \n",
      "3    -0.244  \n",
      "4    -0.131  \n",
      "7    -0.441  \n",
      "9    -0.145  \n",
      "11   -0.172  \n",
      "15   -0.350  \n",
      "23   -0.114  \n",
      "25   -0.212  \n",
      "28   -0.183  \n",
      "30   -0.145  \n",
      "32   -0.225  \n",
      "33   -0.161  \n",
      "36   -0.129  \n",
      "40   -0.138  \n",
      "41   -0.115  \n",
      "43   -0.098  \n",
      "44   -0.203  \n",
      "45   -0.518  \n",
      "49   -0.055  \n",
      "50   -0.108  \n",
      "51   -0.066  \n",
      "52   -0.196  \n",
      "55   -0.184  \n",
      "56   -0.376  \n",
      "59   -0.113  \n",
      "60   -0.334  \n",
      "65   -0.480  \n",
      "66   -0.279  \n",
      "68   -0.506  \n",
      "...     ...  \n",
      "4739 -0.337  \n",
      "4740 -0.231  \n",
      "4741 -0.102  \n",
      "4745 -0.131  \n",
      "4747 -0.220  \n",
      "4749 -0.216  \n",
      "4750 -0.301  \n",
      "4753 -0.287  \n",
      "4758 -0.247  \n",
      "4768 -0.243  \n",
      "4771 -0.426  \n",
      "4773 -0.090  \n",
      "4775 -0.125  \n",
      "4776 -0.510  \n",
      "4777 -0.140  \n",
      "4778 -0.209  \n",
      "4782 -0.166  \n",
      "4783 -0.109  \n",
      "4784 -0.164  \n",
      "4785 -0.188  \n",
      "4786 -0.203  \n",
      "4787 -0.031  \n",
      "4788 -0.220  \n",
      "4789 -0.152  \n",
      "4790 -0.113  \n",
      "4791 -0.447  \n",
      "4793 -0.283  \n",
      "4794 -0.262  \n",
      "4797 -0.169  \n",
      "4798 -0.125  \n",
      "\n",
      "[2465 rows x 136 columns]\n"
     ]
    }
   ],
   "source": [
    "face_train1 = face_train[face_train['smiling'] == 1]\n",
    "face_train1 = face_train1.drop('smiling',1)\n",
    "face_mean1 = face_train1.mean(axis=0, skipna=False)\n",
    "face_train2 = face_train[face_train['smiling'] == 0]\n",
    "face_train2 = face_train2.drop('smiling',1)\n",
    "print(face_train2)\n",
    "face_mean2 = face_train2.mean(axis=0, skipna=False)"
   ]
  },
  {
   "cell_type": "code",
   "execution_count": 230,
   "metadata": {},
   "outputs": [
    {
     "data": {
      "text/plain": [
       "<matplotlib.legend.Legend at 0x7fbd04b18ed0>"
      ]
     },
     "execution_count": 230,
     "metadata": {},
     "output_type": "execute_result"
    },
    {
     "data": {
      "image/png": "[encoded data removed]",
      "text/plain": [
       "<Figure size 432x288 with 1 Axes>"
      ]
     },
     "metadata": {
      "needs_background": "light"
     },
     "output_type": "display_data"
    },
    {
     "data": {
      "image/png": "[encoded data removed]",
      "text/plain": [
       "<Figure size 360x360 with 1 Axes>"
      ]
     },
     "metadata": {
      "needs_background": "light"
     },
     "output_type": "display_data"
    }
   ],
   "source": [
    "plt.ylim((-2.0,2.0))\n",
    "dfx1=face_mean1[[i%2==0 for i in range(len(face_mean1.index))]]\n",
    "dfy1=face_mean1[[i%2==1 for i in range(len(face_mean1.index))]]\n",
    "dfx2=face_mean2[[i%2==0 for i in range(len(face_mean2.index))]]\n",
    "dfy2=face_mean2[[i%2==1 for i in range(len(face_mean2.index))]]\n",
    "plt.figure(figsize=(5,5)) \n",
    "plt.scatter(dfx1,dfy1,label ='smiling = 1(smiling)') \n",
    "plt.scatter(dfx2,dfy2,label ='smiling = 0(non-smiling)')\n",
    "plt.xlabel('value of x coordinate')\n",
    "plt.ylabel('value of y coordinate')\n",
    "plt.title(\"Two faces which simling = 0(non-smiling) and 1(smiling)\")\n",
    "plt.axes().set_aspect('equal')\n",
    "plt.legend()\n",
    "plt.legend(loc=[1, 0])"
   ]
  },
  {
   "cell_type": "code",
   "execution_count": 187,
   "metadata": {},
   "outputs": [
    {
     "ename": "SyntaxError",
     "evalue": "invalid syntax (<ipython-input-187-b0b445ff0e9f>, line 1)",
     "output_type": "error",
     "traceback": [
      "\u001b[0;36m  File \u001b[0;32m\"<ipython-input-187-b0b445ff0e9f>\"\u001b[0;36m, line \u001b[0;32m1\u001b[0m\n\u001b[0;31m    difference: the corner of the mouth of graph(smiling = 1) is upward whereas\u001b[0m\n\u001b[0m                         ^\u001b[0m\n\u001b[0;31mSyntaxError\u001b[0m\u001b[0;31m:\u001b[0m invalid syntax\n"
     ]
    }
   ],
   "source": [
    "difference: the corner of the mouth of graph(smiling = 1) is upward whereas \n",
    "            the mouth corner of graph(smiling = 0) is nonsmiling.\n",
    "            the chin of the mouth of graph(smiling = 1) is more downward \n",
    "            than graph(smiling = 0)."
   ]
  },
  {
   "cell_type": "markdown",
   "metadata": {},
   "source": [
    "(c)"
   ]
  },
  {
   "cell_type": "code",
   "execution_count": 188,
   "metadata": {},
   "outputs": [
    {
     "ename": "SyntaxError",
     "evalue": "invalid syntax (<ipython-input-188-f2ead6b1eb5b>, line 1)",
     "output_type": "error",
     "traceback": [
      "\u001b[0;36m  File \u001b[0;32m\"<ipython-input-188-f2ead6b1eb5b>\"\u001b[0;36m, line \u001b[0;32m1\u001b[0m\n\u001b[0;31m    gini Impurity.\u001b[0m\n\u001b[0m                ^\u001b[0m\n\u001b[0;31mSyntaxError\u001b[0m\u001b[0;31m:\u001b[0m invalid syntax\n"
     ]
    }
   ],
   "source": [
    "gini Impurity.\n",
    "Since computing square is cheaper than \n",
    "logarithmic function we prefer Gini impurity over entropy."
   ]
  },
  {
   "cell_type": "markdown",
   "metadata": {},
   "source": [
    "(d)"
   ]
  },
  {
   "cell_type": "code",
   "execution_count": 189,
   "metadata": {},
   "outputs": [
    {
     "ename": "SyntaxError",
     "evalue": "invalid syntax (<ipython-input-189-39d0d06869e0>, line 1)",
     "output_type": "error",
     "traceback": [
      "\u001b[0;36m  File \u001b[0;32m\"<ipython-input-189-39d0d06869e0>\"\u001b[0;36m, line \u001b[0;32m1\u001b[0m\n\u001b[0;31m    large depth might let the test data hard to fit.\u001b[0m\n\u001b[0m              ^\u001b[0m\n\u001b[0;31mSyntaxError\u001b[0m\u001b[0;31m:\u001b[0m invalid syntax\n"
     ]
    }
   ],
   "source": [
    "large depth might let the test data hard to fit.\n",
    "It will cause overfitting.(too much focus on the training set (programmers) and \n",
    "                           learns complex relations which may not be valid in \n",
    "                           general for new data (test set).)\n",
    "\n",
    "small depth might cause underfitting(a model is too simple).\n"
   ]
  },
  {
   "cell_type": "markdown",
   "metadata": {},
   "source": [
    "(e)"
   ]
  },
  {
   "cell_type": "code",
   "execution_count": 2,
   "metadata": {
    "scrolled": true
   },
   "outputs": [
    {
     "ename": "NameError",
     "evalue": "name 'tree' is not defined",
     "output_type": "error",
     "traceback": [
      "\u001b[0;31m---------------------------------------------------------------------------\u001b[0m",
      "\u001b[0;31mNameError\u001b[0m                                 Traceback (most recent call last)",
      "\u001b[0;32m<ipython-input-2-8e737257d151>\u001b[0m in \u001b[0;36m<module>\u001b[0;34m\u001b[0m\n\u001b[0;32m----> 1\u001b[0;31m \u001b[0mclf\u001b[0m\u001b[0;34m=\u001b[0m\u001b[0mtree\u001b[0m\u001b[0;34m.\u001b[0m\u001b[0mDecisionTreeClassifier\u001b[0m\u001b[0;34m(\u001b[0m\u001b[0mmax_depth\u001b[0m\u001b[0;34m=\u001b[0m\u001b[0;36m2\u001b[0m\u001b[0;34m,\u001b[0m\u001b[0mrandom_state\u001b[0m\u001b[0;34m=\u001b[0m\u001b[0;36m2001\u001b[0m\u001b[0;34m)\u001b[0m\u001b[0;34m\u001b[0m\u001b[0;34m\u001b[0m\u001b[0m\n\u001b[0m\u001b[1;32m      2\u001b[0m \u001b[0mf1\u001b[0m \u001b[0;34m=\u001b[0m \u001b[0mfaces_train\u001b[0m\u001b[0;34m.\u001b[0m\u001b[0mdrop\u001b[0m\u001b[0;34m(\u001b[0m\u001b[0;34m[\u001b[0m\u001b[0;34m'smiling'\u001b[0m\u001b[0;34m]\u001b[0m\u001b[0;34m,\u001b[0m \u001b[0maxis\u001b[0m\u001b[0;34m=\u001b[0m\u001b[0;36m1\u001b[0m\u001b[0;34m)\u001b[0m\u001b[0;34m\u001b[0m\u001b[0;34m\u001b[0m\u001b[0m\n\u001b[1;32m      3\u001b[0m \u001b[0mf2\u001b[0m \u001b[0;34m=\u001b[0m \u001b[0mfaces_train\u001b[0m\u001b[0;34m[\u001b[0m\u001b[0;34m'smiling'\u001b[0m\u001b[0;34m]\u001b[0m\u001b[0;34m\u001b[0m\u001b[0;34m\u001b[0m\u001b[0m\n\u001b[1;32m      4\u001b[0m \u001b[0mclf\u001b[0m\u001b[0;34m=\u001b[0m\u001b[0mclf\u001b[0m\u001b[0;34m.\u001b[0m\u001b[0mfit\u001b[0m\u001b[0;34m(\u001b[0m\u001b[0mf1\u001b[0m\u001b[0;34m,\u001b[0m\u001b[0mf2\u001b[0m\u001b[0;34m)\u001b[0m\u001b[0;34m\u001b[0m\u001b[0;34m\u001b[0m\u001b[0m\n\u001b[1;32m      5\u001b[0m \u001b[0mf3\u001b[0m \u001b[0;34m=\u001b[0m \u001b[0mfaces_test\u001b[0m\u001b[0;34m.\u001b[0m\u001b[0mdrop\u001b[0m\u001b[0;34m(\u001b[0m\u001b[0;34m[\u001b[0m\u001b[0;34m'smiling'\u001b[0m\u001b[0;34m]\u001b[0m\u001b[0;34m,\u001b[0m \u001b[0maxis\u001b[0m\u001b[0;34m=\u001b[0m\u001b[0;36m1\u001b[0m\u001b[0;34m)\u001b[0m\u001b[0;34m\u001b[0m\u001b[0;34m\u001b[0m\u001b[0m\n",
      "\u001b[0;31mNameError\u001b[0m: name 'tree' is not defined"
     ]
    }
   ],
   "source": [
    "clf=tree.DecisionTreeClassifier(max_depth=2,random_state=2001)\n",
    "f1 = faces_train.drop(['smiling'], axis=1)\n",
    "f2 = faces_train['smiling']\n",
    "clf=clf.fit(f1,f2)\n",
    "f3 = faces_test.drop(['smiling'], axis=1)\n",
    "f4 = faces_test['smiling']\n",
    "\n",
    "score_train = clf.score(f1,f2)\n",
    "score_test = clf.score(f3,f4)\n",
    "print(score_train)\n",
    "print(score_test)\n",
    "clf=tree.DecisionTreeClassifier(max_depth=8,random_state=2001)\n",
    "clf=clf.fit(f1,f2)\n",
    "f3 = faces_test.drop(['smiling'], axis=1)\n",
    "f4 = faces_test['smiling']\n",
    "score_train = clf.score(f1,f2)\n",
    "score_test = clf.score(f3,f4)\n",
    "print(score_train)\n",
    "print(score_test)\n",
    "clf=tree.DecisionTreeClassifier(max_depth=20,random_state=2001)\n",
    "clf=clf.fit(f1,f2)\n",
    "f3 = faces_test.drop(['smiling'], axis=1)\n",
    "f4 = faces_test['smiling']\n",
    "score_train = clf.score(f1,f2)\n",
    "score_test = clf.score(f3,f4)\n",
    "print(score_train)\n",
    "print(score_test)"
   ]
  },
  {
   "cell_type": "code",
   "execution_count": 3,
   "metadata": {},
   "outputs": [
    {
     "ename": "SyntaxError",
     "evalue": "invalid syntax (<ipython-input-3-6b7ae92c991e>, line 1)",
     "output_type": "error",
     "traceback": [
      "\u001b[0;36m  File \u001b[0;32m\"<ipython-input-3-6b7ae92c991e>\"\u001b[0;36m, line \u001b[0;32m1\u001b[0m\n\u001b[0;31m    Comment: model whose depth is 8 is best.\u001b[0m\n\u001b[0m                       ^\u001b[0m\n\u001b[0;31mSyntaxError\u001b[0m\u001b[0;31m:\u001b[0m invalid syntax\n"
     ]
    }
   ],
   "source": [
    "Comment: model whose depth is 8 is best. \n",
    "         model(depth = 2) is underfitting, the accuracy of training data is 0.79 and \n",
    "         test data is 0.78. Those values are neither high enough, which means this model is too simple.\n",
    "         model(depth = 20) is overfitting, the accuracy of training data is 1.00 and\n",
    "         test data is 0.82. The model focus too much on the training set and \n",
    "         learns complex relations which may not be valid in general for test set\n",
    "         (The accuracy fall from 1 to 0.82, this is a significant dencent).\n",
    "         model(depth = 8) is fitting well, the accuracy of training data is 0.93 and\n",
    "         test data is 0.84. Those two values do not have too much difference. The model\n",
    "         neither underfitting nor overfitting."
   ]
  },
  {
   "cell_type": "markdown",
   "metadata": {},
   "source": [
    "(f)"
   ]
  },
  {
   "cell_type": "code",
   "execution_count": 4,
   "metadata": {},
   "outputs": [
    {
     "ename": "NameError",
     "evalue": "name 'faces_train' is not defined",
     "output_type": "error",
     "traceback": [
      "\u001b[0;31m---------------------------------------------------------------------------\u001b[0m",
      "\u001b[0;31mNameError\u001b[0m                                 Traceback (most recent call last)",
      "\u001b[0;32m<ipython-input-4-b89bd4505902>\u001b[0m in \u001b[0;36m<module>\u001b[0;34m\u001b[0m\n\u001b[0;32m----> 1\u001b[0;31m \u001b[0mf1\u001b[0m \u001b[0;34m=\u001b[0m \u001b[0mfaces_train\u001b[0m\u001b[0;34m.\u001b[0m\u001b[0mdrop\u001b[0m\u001b[0;34m(\u001b[0m\u001b[0;34m[\u001b[0m\u001b[0;34m'smiling'\u001b[0m\u001b[0;34m]\u001b[0m\u001b[0;34m,\u001b[0m \u001b[0maxis\u001b[0m\u001b[0;34m=\u001b[0m\u001b[0;36m1\u001b[0m\u001b[0;34m)\u001b[0m\u001b[0;34m\u001b[0m\u001b[0;34m\u001b[0m\u001b[0m\n\u001b[0m\u001b[1;32m      2\u001b[0m \u001b[0mf2\u001b[0m \u001b[0;34m=\u001b[0m \u001b[0mfaces_train\u001b[0m\u001b[0;34m[\u001b[0m\u001b[0;34m'smiling'\u001b[0m\u001b[0;34m]\u001b[0m\u001b[0;34m\u001b[0m\u001b[0;34m\u001b[0m\u001b[0m\n\u001b[1;32m      3\u001b[0m \u001b[0mclf\u001b[0m\u001b[0;34m=\u001b[0m\u001b[0mtree\u001b[0m\u001b[0;34m.\u001b[0m\u001b[0mDecisionTreeClassifier\u001b[0m\u001b[0;34m(\u001b[0m\u001b[0mcriterion\u001b[0m\u001b[0;34m=\u001b[0m\u001b[0;34m'gini'\u001b[0m\u001b[0;34m,\u001b[0m\u001b[0mmax_depth\u001b[0m\u001b[0;34m=\u001b[0m\u001b[0;36m8\u001b[0m\u001b[0;34m,\u001b[0m\u001b[0mrandom_state\u001b[0m\u001b[0;34m=\u001b[0m\u001b[0;36m2001\u001b[0m\u001b[0;34m)\u001b[0m\u001b[0;34m\u001b[0m\u001b[0;34m\u001b[0m\u001b[0m\n\u001b[1;32m      4\u001b[0m \u001b[0mclf\u001b[0m\u001b[0;34m=\u001b[0m\u001b[0mclf\u001b[0m\u001b[0;34m.\u001b[0m\u001b[0mfit\u001b[0m\u001b[0;34m(\u001b[0m\u001b[0mf1\u001b[0m\u001b[0;34m,\u001b[0m\u001b[0mf2\u001b[0m\u001b[0;34m)\u001b[0m\u001b[0;34m\u001b[0m\u001b[0;34m\u001b[0m\u001b[0m\n\u001b[1;32m      5\u001b[0m \u001b[0ma\u001b[0m \u001b[0;34m=\u001b[0m \u001b[0mclf\u001b[0m\u001b[0;34m.\u001b[0m\u001b[0mfeature_importances_\u001b[0m\u001b[0;34m\u001b[0m\u001b[0;34m\u001b[0m\u001b[0m\n",
      "\u001b[0;31mNameError\u001b[0m: name 'faces_train' is not defined"
     ]
    }
   ],
   "source": [
    "f1 = faces_train.drop(['smiling'], axis=1)\n",
    "f2 = faces_train['smiling']\n",
    "clf=tree.DecisionTreeClassifier(criterion='gini',max_depth=8,random_state=2001)\n",
    "clf=clf.fit(f1,f2)\n",
    "a = clf.feature_importances_\n",
    "print(a.shape())\n",
    "print(np.argmax(a))\n",
    "# x50\n",
    "a = np.delete(a,[100])\n",
    "print(np.argmax(a))\n",
    "# y48\n",
    "a = np.delete(a,[97])\n",
    "print(np.argmax(a))\n",
    "# y29"
   ]
  },
  {
   "cell_type": "code",
   "execution_count": null,
   "metadata": {},
   "outputs": [],
   "source": [
    "\n",
    "    "
   ]
  },
  {
   "cell_type": "markdown",
   "metadata": {},
   "source": [
    "(g)"
   ]
  },
  {
   "cell_type": "code",
   "execution_count": null,
   "metadata": {},
   "outputs": [],
   "source": [
    "chaos or the face might rotate."
   ]
  }
 ],
 "metadata": {
  "kernelspec": {
   "display_name": "Python 3",
   "language": "python",
   "name": "python3"
  },
  "language_info": {
   "codemirror_mode": {
    "name": "ipython",
    "version": 3
   },
   "file_extension": ".py",
   "mimetype": "text/x-python",
   "name": "python",
   "nbconvert_exporter": "python",
   "pygments_lexer": "ipython3",
   "version": "3.7.7"
  }
 },
 "nbformat": 4,
 "nbformat_minor": 4
}
